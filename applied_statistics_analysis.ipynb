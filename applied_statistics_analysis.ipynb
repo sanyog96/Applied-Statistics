{
  "cells": [
    {
      "cell_type": "code",
      "execution_count": null,
      "metadata": {
        "id": "52baa863"
      },
      "outputs": [],
      "source": [
        "import pandas as pd\n",
        "import matplotlib.pyplot as plt\n",
        "import numpy as np\n",
        "from sklearn.preprocessing import MultiLabelBinarizer\n",
        "from scipy.stats import chi2_contingency\n",
        "import collections\n",
        "import seaborn as sns\n",
        "from tabulate import tabulate\n",
        "from scipy.stats import norm"
      ],
      "id": "52baa863"
    },
    {
      "cell_type": "code",
      "execution_count": null,
      "metadata": {
        "id": "4tNCsv0ZGi8T"
      },
      "outputs": [],
      "source": [
        "data = pd.read_csv(\"/content/survey_modified2.csv\")"
      ],
      "id": "4tNCsv0ZGi8T"
    },
    {
      "cell_type": "code",
      "execution_count": null,
      "metadata": {
        "id": "WAKkbaJYiAGB"
      },
      "outputs": [],
      "source": [
        "data1 = data"
      ],
      "id": "WAKkbaJYiAGB"
    },
    {
      "cell_type": "code",
      "execution_count": null,
      "metadata": {
        "colab": {
          "base_uri": "https://localhost:8080/",
          "height": 1000
        },
        "id": "nmjCFUgoDwva",
        "outputId": "76e21e95-7e10-45d7-b917-b2eccb527193"
      },
      "outputs": [
        {
          "output_type": "execute_result",
          "data": {
            "text/plain": [
              "     Unnamed: 0  Gender         Degree Internet connectivity issues   Area  \\\n",
              "0             1    Male  Undergraduate                       Rarely  Urban   \n",
              "27           28  Female   Postgraduate                     Moderate  Urban   \n",
              "47           48    Male  Undergraduate                        Never  Urban   \n",
              "84           85    Male  Undergraduate                   Very often  Rural   \n",
              "92           93  Female   Postgraduate                     Moderate  Rural   \n",
              "98           99    Male  Undergraduate                       Rarely  Urban   \n",
              "125         126    Male  Undergraduate                     Moderate  Urban   \n",
              "187         188    Male   Postgraduate                     Moderate  Rural   \n",
              "198         199  Female   Postgraduate                     Moderate  Urban   \n",
              "210         211  Female   Postgraduate                       Rarely  Urban   \n",
              "216         217  Female   Postgraduate                       Rarely  Urban   \n",
              "218         219    Male   Postgraduate                     Moderate  Rural   \n",
              "\n",
              "                                     Lecture Modes  \\\n",
              "0    Live Session, Recorded Videos, Doubt sessions   \n",
              "27   Live Session, Recorded Videos, Doubt sessions   \n",
              "47   Live Session, Recorded Videos, Doubt sessions   \n",
              "84   Live Session, Recorded Videos, Doubt sessions   \n",
              "92                    Live Session, Doubt sessions   \n",
              "98                   Live Session, Recorded Videos   \n",
              "125  Live Session, Recorded Videos, Doubt sessions   \n",
              "187   Recorded Videos, Doubt Session, Live Session   \n",
              "198                                   Live Session   \n",
              "210                                   Live Session   \n",
              "216   Recorded Videos, Doubt Session, Live Session   \n",
              "218   Recorded Videos, Doubt Session, Live Session   \n",
              "\n",
              "    Online learning content quality Class interaction with instructors  \\\n",
              "0                          Very bad                                Few   \n",
              "27                             Good                               Most   \n",
              "47                         Very bad                               Most   \n",
              "84                             Good                                Few   \n",
              "92                             Good                               Most   \n",
              "98                             Good                               Most   \n",
              "125                        Moderate                                Few   \n",
              "187                            Good                               Most   \n",
              "198                        Moderate                                Few   \n",
              "210                            Good                               Most   \n",
              "216                       Very Good                               Most   \n",
              "218                            Good                                Few   \n",
              "\n",
              "    Personalized Interaction with instructors  \\\n",
              "0                                        None   \n",
              "27                                       Most   \n",
              "47                                       Most   \n",
              "84                                        Few   \n",
              "92                                        Few   \n",
              "98                                       None   \n",
              "125                                       Few   \n",
              "187                                       Few   \n",
              "198                                      None   \n",
              "210                                      Most   \n",
              "216                                      Most   \n",
              "218                                       Few   \n",
              "\n",
              "    Level of interaction with your batchmates?  Motivation  Work-life balance  \\\n",
              "0                                          Low           1                  1   \n",
              "27                                    Moderate           3                  4   \n",
              "47                                        High           5                  5   \n",
              "84                                    Moderate           3                  2   \n",
              "92                                         Low           4                  4   \n",
              "98                                         Low           2                  3   \n",
              "125                                        Low           3                  3   \n",
              "187                                        Low           3                  4   \n",
              "198                                        Low           3                  4   \n",
              "210                                   Moderate           5                  5   \n",
              "216                                        Low           4                  3   \n",
              "218                                   Moderate           4                  3   \n",
              "\n",
              "    Study environment  Stress levels Online examination experience  \\\n",
              "0               Noisy              4                          Good   \n",
              "27              Quiet              3                          Good   \n",
              "47              Quiet              1                          Good   \n",
              "84              Noisy              3                          Good   \n",
              "92              Quiet              4                          Good   \n",
              "98              Quiet              4                          Good   \n",
              "125             Noisy              4                          Good   \n",
              "187             Quiet              1                          Good   \n",
              "198             Quiet              2                          Good   \n",
              "210             Quiet              2                          Good   \n",
              "216             Quiet              4                          Good   \n",
              "218             Quiet              3                          Good   \n",
              "\n",
              "     Study hours  grades  \n",
              "0            5.0     8.9  \n",
              "27           5.0     7.9  \n",
              "47           6.0     7.3  \n",
              "84           6.0     8.0  \n",
              "92           5.0     8.6  \n",
              "98           6.0     8.1  \n",
              "125          5.0     7.5  \n",
              "187          5.0     7.3  \n",
              "198          5.0     7.5  \n",
              "210          6.0     7.2  \n",
              "216          5.0     8.0  \n",
              "218          5.0     7.9  "
            ],
            "text/html": [
              "\n",
              "  <div id=\"df-197d963c-3fca-4271-9431-8f56c93e3972\">\n",
              "    <div class=\"colab-df-container\">\n",
              "      <div>\n",
              "<style scoped>\n",
              "    .dataframe tbody tr th:only-of-type {\n",
              "        vertical-align: middle;\n",
              "    }\n",
              "\n",
              "    .dataframe tbody tr th {\n",
              "        vertical-align: top;\n",
              "    }\n",
              "\n",
              "    .dataframe thead th {\n",
              "        text-align: right;\n",
              "    }\n",
              "</style>\n",
              "<table border=\"1\" class=\"dataframe\">\n",
              "  <thead>\n",
              "    <tr style=\"text-align: right;\">\n",
              "      <th></th>\n",
              "      <th>Unnamed: 0</th>\n",
              "      <th>Gender</th>\n",
              "      <th>Degree</th>\n",
              "      <th>Internet connectivity issues</th>\n",
              "      <th>Area</th>\n",
              "      <th>Lecture Modes</th>\n",
              "      <th>Online learning content quality</th>\n",
              "      <th>Class interaction with instructors</th>\n",
              "      <th>Personalized Interaction with instructors</th>\n",
              "      <th>Level of interaction with your batchmates?</th>\n",
              "      <th>Motivation</th>\n",
              "      <th>Work-life balance</th>\n",
              "      <th>Study environment</th>\n",
              "      <th>Stress levels</th>\n",
              "      <th>Online examination experience</th>\n",
              "      <th>Study hours</th>\n",
              "      <th>grades</th>\n",
              "    </tr>\n",
              "  </thead>\n",
              "  <tbody>\n",
              "    <tr>\n",
              "      <th>0</th>\n",
              "      <td>1</td>\n",
              "      <td>Male</td>\n",
              "      <td>Undergraduate</td>\n",
              "      <td>Rarely</td>\n",
              "      <td>Urban</td>\n",
              "      <td>Live Session, Recorded Videos, Doubt sessions</td>\n",
              "      <td>Very bad</td>\n",
              "      <td>Few</td>\n",
              "      <td>None</td>\n",
              "      <td>Low</td>\n",
              "      <td>1</td>\n",
              "      <td>1</td>\n",
              "      <td>Noisy</td>\n",
              "      <td>4</td>\n",
              "      <td>Good</td>\n",
              "      <td>5.0</td>\n",
              "      <td>8.9</td>\n",
              "    </tr>\n",
              "    <tr>\n",
              "      <th>27</th>\n",
              "      <td>28</td>\n",
              "      <td>Female</td>\n",
              "      <td>Postgraduate</td>\n",
              "      <td>Moderate</td>\n",
              "      <td>Urban</td>\n",
              "      <td>Live Session, Recorded Videos, Doubt sessions</td>\n",
              "      <td>Good</td>\n",
              "      <td>Most</td>\n",
              "      <td>Most</td>\n",
              "      <td>Moderate</td>\n",
              "      <td>3</td>\n",
              "      <td>4</td>\n",
              "      <td>Quiet</td>\n",
              "      <td>3</td>\n",
              "      <td>Good</td>\n",
              "      <td>5.0</td>\n",
              "      <td>7.9</td>\n",
              "    </tr>\n",
              "    <tr>\n",
              "      <th>47</th>\n",
              "      <td>48</td>\n",
              "      <td>Male</td>\n",
              "      <td>Undergraduate</td>\n",
              "      <td>Never</td>\n",
              "      <td>Urban</td>\n",
              "      <td>Live Session, Recorded Videos, Doubt sessions</td>\n",
              "      <td>Very bad</td>\n",
              "      <td>Most</td>\n",
              "      <td>Most</td>\n",
              "      <td>High</td>\n",
              "      <td>5</td>\n",
              "      <td>5</td>\n",
              "      <td>Quiet</td>\n",
              "      <td>1</td>\n",
              "      <td>Good</td>\n",
              "      <td>6.0</td>\n",
              "      <td>7.3</td>\n",
              "    </tr>\n",
              "    <tr>\n",
              "      <th>84</th>\n",
              "      <td>85</td>\n",
              "      <td>Male</td>\n",
              "      <td>Undergraduate</td>\n",
              "      <td>Very often</td>\n",
              "      <td>Rural</td>\n",
              "      <td>Live Session, Recorded Videos, Doubt sessions</td>\n",
              "      <td>Good</td>\n",
              "      <td>Few</td>\n",
              "      <td>Few</td>\n",
              "      <td>Moderate</td>\n",
              "      <td>3</td>\n",
              "      <td>2</td>\n",
              "      <td>Noisy</td>\n",
              "      <td>3</td>\n",
              "      <td>Good</td>\n",
              "      <td>6.0</td>\n",
              "      <td>8.0</td>\n",
              "    </tr>\n",
              "    <tr>\n",
              "      <th>92</th>\n",
              "      <td>93</td>\n",
              "      <td>Female</td>\n",
              "      <td>Postgraduate</td>\n",
              "      <td>Moderate</td>\n",
              "      <td>Rural</td>\n",
              "      <td>Live Session, Doubt sessions</td>\n",
              "      <td>Good</td>\n",
              "      <td>Most</td>\n",
              "      <td>Few</td>\n",
              "      <td>Low</td>\n",
              "      <td>4</td>\n",
              "      <td>4</td>\n",
              "      <td>Quiet</td>\n",
              "      <td>4</td>\n",
              "      <td>Good</td>\n",
              "      <td>5.0</td>\n",
              "      <td>8.6</td>\n",
              "    </tr>\n",
              "    <tr>\n",
              "      <th>98</th>\n",
              "      <td>99</td>\n",
              "      <td>Male</td>\n",
              "      <td>Undergraduate</td>\n",
              "      <td>Rarely</td>\n",
              "      <td>Urban</td>\n",
              "      <td>Live Session, Recorded Videos</td>\n",
              "      <td>Good</td>\n",
              "      <td>Most</td>\n",
              "      <td>None</td>\n",
              "      <td>Low</td>\n",
              "      <td>2</td>\n",
              "      <td>3</td>\n",
              "      <td>Quiet</td>\n",
              "      <td>4</td>\n",
              "      <td>Good</td>\n",
              "      <td>6.0</td>\n",
              "      <td>8.1</td>\n",
              "    </tr>\n",
              "    <tr>\n",
              "      <th>125</th>\n",
              "      <td>126</td>\n",
              "      <td>Male</td>\n",
              "      <td>Undergraduate</td>\n",
              "      <td>Moderate</td>\n",
              "      <td>Urban</td>\n",
              "      <td>Live Session, Recorded Videos, Doubt sessions</td>\n",
              "      <td>Moderate</td>\n",
              "      <td>Few</td>\n",
              "      <td>Few</td>\n",
              "      <td>Low</td>\n",
              "      <td>3</td>\n",
              "      <td>3</td>\n",
              "      <td>Noisy</td>\n",
              "      <td>4</td>\n",
              "      <td>Good</td>\n",
              "      <td>5.0</td>\n",
              "      <td>7.5</td>\n",
              "    </tr>\n",
              "    <tr>\n",
              "      <th>187</th>\n",
              "      <td>188</td>\n",
              "      <td>Male</td>\n",
              "      <td>Postgraduate</td>\n",
              "      <td>Moderate</td>\n",
              "      <td>Rural</td>\n",
              "      <td>Recorded Videos, Doubt Session, Live Session</td>\n",
              "      <td>Good</td>\n",
              "      <td>Most</td>\n",
              "      <td>Few</td>\n",
              "      <td>Low</td>\n",
              "      <td>3</td>\n",
              "      <td>4</td>\n",
              "      <td>Quiet</td>\n",
              "      <td>1</td>\n",
              "      <td>Good</td>\n",
              "      <td>5.0</td>\n",
              "      <td>7.3</td>\n",
              "    </tr>\n",
              "    <tr>\n",
              "      <th>198</th>\n",
              "      <td>199</td>\n",
              "      <td>Female</td>\n",
              "      <td>Postgraduate</td>\n",
              "      <td>Moderate</td>\n",
              "      <td>Urban</td>\n",
              "      <td>Live Session</td>\n",
              "      <td>Moderate</td>\n",
              "      <td>Few</td>\n",
              "      <td>None</td>\n",
              "      <td>Low</td>\n",
              "      <td>3</td>\n",
              "      <td>4</td>\n",
              "      <td>Quiet</td>\n",
              "      <td>2</td>\n",
              "      <td>Good</td>\n",
              "      <td>5.0</td>\n",
              "      <td>7.5</td>\n",
              "    </tr>\n",
              "    <tr>\n",
              "      <th>210</th>\n",
              "      <td>211</td>\n",
              "      <td>Female</td>\n",
              "      <td>Postgraduate</td>\n",
              "      <td>Rarely</td>\n",
              "      <td>Urban</td>\n",
              "      <td>Live Session</td>\n",
              "      <td>Good</td>\n",
              "      <td>Most</td>\n",
              "      <td>Most</td>\n",
              "      <td>Moderate</td>\n",
              "      <td>5</td>\n",
              "      <td>5</td>\n",
              "      <td>Quiet</td>\n",
              "      <td>2</td>\n",
              "      <td>Good</td>\n",
              "      <td>6.0</td>\n",
              "      <td>7.2</td>\n",
              "    </tr>\n",
              "    <tr>\n",
              "      <th>216</th>\n",
              "      <td>217</td>\n",
              "      <td>Female</td>\n",
              "      <td>Postgraduate</td>\n",
              "      <td>Rarely</td>\n",
              "      <td>Urban</td>\n",
              "      <td>Recorded Videos, Doubt Session, Live Session</td>\n",
              "      <td>Very Good</td>\n",
              "      <td>Most</td>\n",
              "      <td>Most</td>\n",
              "      <td>Low</td>\n",
              "      <td>4</td>\n",
              "      <td>3</td>\n",
              "      <td>Quiet</td>\n",
              "      <td>4</td>\n",
              "      <td>Good</td>\n",
              "      <td>5.0</td>\n",
              "      <td>8.0</td>\n",
              "    </tr>\n",
              "    <tr>\n",
              "      <th>218</th>\n",
              "      <td>219</td>\n",
              "      <td>Male</td>\n",
              "      <td>Postgraduate</td>\n",
              "      <td>Moderate</td>\n",
              "      <td>Rural</td>\n",
              "      <td>Recorded Videos, Doubt Session, Live Session</td>\n",
              "      <td>Good</td>\n",
              "      <td>Few</td>\n",
              "      <td>Few</td>\n",
              "      <td>Moderate</td>\n",
              "      <td>4</td>\n",
              "      <td>3</td>\n",
              "      <td>Quiet</td>\n",
              "      <td>3</td>\n",
              "      <td>Good</td>\n",
              "      <td>5.0</td>\n",
              "      <td>7.9</td>\n",
              "    </tr>\n",
              "  </tbody>\n",
              "</table>\n",
              "</div>\n",
              "      <button class=\"colab-df-convert\" onclick=\"convertToInteractive('df-197d963c-3fca-4271-9431-8f56c93e3972')\"\n",
              "              title=\"Convert this dataframe to an interactive table.\"\n",
              "              style=\"display:none;\">\n",
              "        \n",
              "  <svg xmlns=\"http://www.w3.org/2000/svg\" height=\"24px\"viewBox=\"0 0 24 24\"\n",
              "       width=\"24px\">\n",
              "    <path d=\"M0 0h24v24H0V0z\" fill=\"none\"/>\n",
              "    <path d=\"M18.56 5.44l.94 2.06.94-2.06 2.06-.94-2.06-.94-.94-2.06-.94 2.06-2.06.94zm-11 1L8.5 8.5l.94-2.06 2.06-.94-2.06-.94L8.5 2.5l-.94 2.06-2.06.94zm10 10l.94 2.06.94-2.06 2.06-.94-2.06-.94-.94-2.06-.94 2.06-2.06.94z\"/><path d=\"M17.41 7.96l-1.37-1.37c-.4-.4-.92-.59-1.43-.59-.52 0-1.04.2-1.43.59L10.3 9.45l-7.72 7.72c-.78.78-.78 2.05 0 2.83L4 21.41c.39.39.9.59 1.41.59.51 0 1.02-.2 1.41-.59l7.78-7.78 2.81-2.81c.8-.78.8-2.07 0-2.86zM5.41 20L4 18.59l7.72-7.72 1.47 1.35L5.41 20z\"/>\n",
              "  </svg>\n",
              "      </button>\n",
              "      \n",
              "  <style>\n",
              "    .colab-df-container {\n",
              "      display:flex;\n",
              "      flex-wrap:wrap;\n",
              "      gap: 12px;\n",
              "    }\n",
              "\n",
              "    .colab-df-convert {\n",
              "      background-color: #E8F0FE;\n",
              "      border: none;\n",
              "      border-radius: 50%;\n",
              "      cursor: pointer;\n",
              "      display: none;\n",
              "      fill: #1967D2;\n",
              "      height: 32px;\n",
              "      padding: 0 0 0 0;\n",
              "      width: 32px;\n",
              "    }\n",
              "\n",
              "    .colab-df-convert:hover {\n",
              "      background-color: #E2EBFA;\n",
              "      box-shadow: 0px 1px 2px rgba(60, 64, 67, 0.3), 0px 1px 3px 1px rgba(60, 64, 67, 0.15);\n",
              "      fill: #174EA6;\n",
              "    }\n",
              "\n",
              "    [theme=dark] .colab-df-convert {\n",
              "      background-color: #3B4455;\n",
              "      fill: #D2E3FC;\n",
              "    }\n",
              "\n",
              "    [theme=dark] .colab-df-convert:hover {\n",
              "      background-color: #434B5C;\n",
              "      box-shadow: 0px 1px 3px 1px rgba(0, 0, 0, 0.15);\n",
              "      filter: drop-shadow(0px 1px 2px rgba(0, 0, 0, 0.3));\n",
              "      fill: #FFFFFF;\n",
              "    }\n",
              "  </style>\n",
              "\n",
              "      <script>\n",
              "        const buttonEl =\n",
              "          document.querySelector('#df-197d963c-3fca-4271-9431-8f56c93e3972 button.colab-df-convert');\n",
              "        buttonEl.style.display =\n",
              "          google.colab.kernel.accessAllowed ? 'block' : 'none';\n",
              "\n",
              "        async function convertToInteractive(key) {\n",
              "          const element = document.querySelector('#df-197d963c-3fca-4271-9431-8f56c93e3972');\n",
              "          const dataTable =\n",
              "            await google.colab.kernel.invokeFunction('convertToInteractive',\n",
              "                                                     [key], {});\n",
              "          if (!dataTable) return;\n",
              "\n",
              "          const docLinkHtml = 'Like what you see? Visit the ' +\n",
              "            '<a target=\"_blank\" href=https://colab.research.google.com/notebooks/data_table.ipynb>data table notebook</a>'\n",
              "            + ' to learn more about interactive tables.';\n",
              "          element.innerHTML = '';\n",
              "          dataTable['output_type'] = 'display_data';\n",
              "          await google.colab.output.renderOutput(dataTable, element);\n",
              "          const docLink = document.createElement('div');\n",
              "          docLink.innerHTML = docLinkHtml;\n",
              "          element.appendChild(docLink);\n",
              "        }\n",
              "      </script>\n",
              "    </div>\n",
              "  </div>\n",
              "  "
            ]
          },
          "metadata": {},
          "execution_count": 6
        }
      ],
      "source": [
        "data1.loc[(data1['Study hours'] >4) &(data1['Study hours'] <7)& (data1['Online examination experience'] == 'Good')] #& (data1['Online learning content quality'] == 'Very Bad')&(data1['Internet connectivity issues'] == 'Very often') ]"
      ],
      "id": "nmjCFUgoDwva"
    },
    {
      "cell_type": "code",
      "execution_count": null,
      "metadata": {
        "colab": {
          "base_uri": "https://localhost:8080/",
          "height": 582
        },
        "id": "7buTBvFeqVAV",
        "outputId": "306d5f98-eb68-4f3f-b330-0e2a7ff139d1"
      },
      "outputs": [
        {
          "output_type": "execute_result",
          "data": {
            "text/plain": [
              "   Unnamed: 0  Gender         Degree Internet connectivity issues   Area  \\\n",
              "0           1    Male  Undergraduate                       Rarely  Urban   \n",
              "1           2    Male  Undergraduate                     Moderate  Urban   \n",
              "2           3  Female  Undergraduate                       Rarely  Urban   \n",
              "3           4    Male  Undergraduate                     Moderate  Rural   \n",
              "4           5    Male   Postgraduate                       Rarely  Urban   \n",
              "\n",
              "                                   Lecture Modes  \\\n",
              "0  Live Session, Recorded Videos, Doubt sessions   \n",
              "1                  Live Session, Recorded Videos   \n",
              "2  Live Session, Recorded Videos, Doubt sessions   \n",
              "3                                   Live Session   \n",
              "4                                   Live Session   \n",
              "\n",
              "  Online learning content quality Class interaction with instructors  \\\n",
              "0                        Very bad                                Few   \n",
              "1                        Moderate                               Most   \n",
              "2                        Moderate                                Few   \n",
              "3                            Good                               Most   \n",
              "4                        Moderate                                Few   \n",
              "\n",
              "  Personalized Interaction with instructors  \\\n",
              "0                                      None   \n",
              "1                                       Few   \n",
              "2                                       Few   \n",
              "3                                       Few   \n",
              "4                                       Few   \n",
              "\n",
              "  Level of interaction with your batchmates?  Motivation  Work-life balance  \\\n",
              "0                                        Low           1                  1   \n",
              "1                                   Moderate           2                  2   \n",
              "2                                        Low           2                  3   \n",
              "3                                        Low           2                  2   \n",
              "4                                        Low           1                  1   \n",
              "\n",
              "  Study environment  Stress levels Online examination experience  Study hours  \\\n",
              "0             Noisy              4                          Good          5.0   \n",
              "1             Noisy              4                           Bad          7.0   \n",
              "2             Noisy              3                      Moderate          6.0   \n",
              "3             Quiet              2                           Bad          4.0   \n",
              "4             Noisy              2                           Bad          2.0   \n",
              "\n",
              "   grades  \n",
              "0     8.9  \n",
              "1     7.6  \n",
              "2     8.1  \n",
              "3     6.6  \n",
              "4     6.9  "
            ],
            "text/html": [
              "\n",
              "  <div id=\"df-4c51b929-a6de-4dd4-864d-29812ddc1d18\">\n",
              "    <div class=\"colab-df-container\">\n",
              "      <div>\n",
              "<style scoped>\n",
              "    .dataframe tbody tr th:only-of-type {\n",
              "        vertical-align: middle;\n",
              "    }\n",
              "\n",
              "    .dataframe tbody tr th {\n",
              "        vertical-align: top;\n",
              "    }\n",
              "\n",
              "    .dataframe thead th {\n",
              "        text-align: right;\n",
              "    }\n",
              "</style>\n",
              "<table border=\"1\" class=\"dataframe\">\n",
              "  <thead>\n",
              "    <tr style=\"text-align: right;\">\n",
              "      <th></th>\n",
              "      <th>Unnamed: 0</th>\n",
              "      <th>Gender</th>\n",
              "      <th>Degree</th>\n",
              "      <th>Internet connectivity issues</th>\n",
              "      <th>Area</th>\n",
              "      <th>Lecture Modes</th>\n",
              "      <th>Online learning content quality</th>\n",
              "      <th>Class interaction with instructors</th>\n",
              "      <th>Personalized Interaction with instructors</th>\n",
              "      <th>Level of interaction with your batchmates?</th>\n",
              "      <th>Motivation</th>\n",
              "      <th>Work-life balance</th>\n",
              "      <th>Study environment</th>\n",
              "      <th>Stress levels</th>\n",
              "      <th>Online examination experience</th>\n",
              "      <th>Study hours</th>\n",
              "      <th>grades</th>\n",
              "    </tr>\n",
              "  </thead>\n",
              "  <tbody>\n",
              "    <tr>\n",
              "      <th>0</th>\n",
              "      <td>1</td>\n",
              "      <td>Male</td>\n",
              "      <td>Undergraduate</td>\n",
              "      <td>Rarely</td>\n",
              "      <td>Urban</td>\n",
              "      <td>Live Session, Recorded Videos, Doubt sessions</td>\n",
              "      <td>Very bad</td>\n",
              "      <td>Few</td>\n",
              "      <td>None</td>\n",
              "      <td>Low</td>\n",
              "      <td>1</td>\n",
              "      <td>1</td>\n",
              "      <td>Noisy</td>\n",
              "      <td>4</td>\n",
              "      <td>Good</td>\n",
              "      <td>5.0</td>\n",
              "      <td>8.9</td>\n",
              "    </tr>\n",
              "    <tr>\n",
              "      <th>1</th>\n",
              "      <td>2</td>\n",
              "      <td>Male</td>\n",
              "      <td>Undergraduate</td>\n",
              "      <td>Moderate</td>\n",
              "      <td>Urban</td>\n",
              "      <td>Live Session, Recorded Videos</td>\n",
              "      <td>Moderate</td>\n",
              "      <td>Most</td>\n",
              "      <td>Few</td>\n",
              "      <td>Moderate</td>\n",
              "      <td>2</td>\n",
              "      <td>2</td>\n",
              "      <td>Noisy</td>\n",
              "      <td>4</td>\n",
              "      <td>Bad</td>\n",
              "      <td>7.0</td>\n",
              "      <td>7.6</td>\n",
              "    </tr>\n",
              "    <tr>\n",
              "      <th>2</th>\n",
              "      <td>3</td>\n",
              "      <td>Female</td>\n",
              "      <td>Undergraduate</td>\n",
              "      <td>Rarely</td>\n",
              "      <td>Urban</td>\n",
              "      <td>Live Session, Recorded Videos, Doubt sessions</td>\n",
              "      <td>Moderate</td>\n",
              "      <td>Few</td>\n",
              "      <td>Few</td>\n",
              "      <td>Low</td>\n",
              "      <td>2</td>\n",
              "      <td>3</td>\n",
              "      <td>Noisy</td>\n",
              "      <td>3</td>\n",
              "      <td>Moderate</td>\n",
              "      <td>6.0</td>\n",
              "      <td>8.1</td>\n",
              "    </tr>\n",
              "    <tr>\n",
              "      <th>3</th>\n",
              "      <td>4</td>\n",
              "      <td>Male</td>\n",
              "      <td>Undergraduate</td>\n",
              "      <td>Moderate</td>\n",
              "      <td>Rural</td>\n",
              "      <td>Live Session</td>\n",
              "      <td>Good</td>\n",
              "      <td>Most</td>\n",
              "      <td>Few</td>\n",
              "      <td>Low</td>\n",
              "      <td>2</td>\n",
              "      <td>2</td>\n",
              "      <td>Quiet</td>\n",
              "      <td>2</td>\n",
              "      <td>Bad</td>\n",
              "      <td>4.0</td>\n",
              "      <td>6.6</td>\n",
              "    </tr>\n",
              "    <tr>\n",
              "      <th>4</th>\n",
              "      <td>5</td>\n",
              "      <td>Male</td>\n",
              "      <td>Postgraduate</td>\n",
              "      <td>Rarely</td>\n",
              "      <td>Urban</td>\n",
              "      <td>Live Session</td>\n",
              "      <td>Moderate</td>\n",
              "      <td>Few</td>\n",
              "      <td>Few</td>\n",
              "      <td>Low</td>\n",
              "      <td>1</td>\n",
              "      <td>1</td>\n",
              "      <td>Noisy</td>\n",
              "      <td>2</td>\n",
              "      <td>Bad</td>\n",
              "      <td>2.0</td>\n",
              "      <td>6.9</td>\n",
              "    </tr>\n",
              "  </tbody>\n",
              "</table>\n",
              "</div>\n",
              "      <button class=\"colab-df-convert\" onclick=\"convertToInteractive('df-4c51b929-a6de-4dd4-864d-29812ddc1d18')\"\n",
              "              title=\"Convert this dataframe to an interactive table.\"\n",
              "              style=\"display:none;\">\n",
              "        \n",
              "  <svg xmlns=\"http://www.w3.org/2000/svg\" height=\"24px\"viewBox=\"0 0 24 24\"\n",
              "       width=\"24px\">\n",
              "    <path d=\"M0 0h24v24H0V0z\" fill=\"none\"/>\n",
              "    <path d=\"M18.56 5.44l.94 2.06.94-2.06 2.06-.94-2.06-.94-.94-2.06-.94 2.06-2.06.94zm-11 1L8.5 8.5l.94-2.06 2.06-.94-2.06-.94L8.5 2.5l-.94 2.06-2.06.94zm10 10l.94 2.06.94-2.06 2.06-.94-2.06-.94-.94-2.06-.94 2.06-2.06.94z\"/><path d=\"M17.41 7.96l-1.37-1.37c-.4-.4-.92-.59-1.43-.59-.52 0-1.04.2-1.43.59L10.3 9.45l-7.72 7.72c-.78.78-.78 2.05 0 2.83L4 21.41c.39.39.9.59 1.41.59.51 0 1.02-.2 1.41-.59l7.78-7.78 2.81-2.81c.8-.78.8-2.07 0-2.86zM5.41 20L4 18.59l7.72-7.72 1.47 1.35L5.41 20z\"/>\n",
              "  </svg>\n",
              "      </button>\n",
              "      \n",
              "  <style>\n",
              "    .colab-df-container {\n",
              "      display:flex;\n",
              "      flex-wrap:wrap;\n",
              "      gap: 12px;\n",
              "    }\n",
              "\n",
              "    .colab-df-convert {\n",
              "      background-color: #E8F0FE;\n",
              "      border: none;\n",
              "      border-radius: 50%;\n",
              "      cursor: pointer;\n",
              "      display: none;\n",
              "      fill: #1967D2;\n",
              "      height: 32px;\n",
              "      padding: 0 0 0 0;\n",
              "      width: 32px;\n",
              "    }\n",
              "\n",
              "    .colab-df-convert:hover {\n",
              "      background-color: #E2EBFA;\n",
              "      box-shadow: 0px 1px 2px rgba(60, 64, 67, 0.3), 0px 1px 3px 1px rgba(60, 64, 67, 0.15);\n",
              "      fill: #174EA6;\n",
              "    }\n",
              "\n",
              "    [theme=dark] .colab-df-convert {\n",
              "      background-color: #3B4455;\n",
              "      fill: #D2E3FC;\n",
              "    }\n",
              "\n",
              "    [theme=dark] .colab-df-convert:hover {\n",
              "      background-color: #434B5C;\n",
              "      box-shadow: 0px 1px 3px 1px rgba(0, 0, 0, 0.15);\n",
              "      filter: drop-shadow(0px 1px 2px rgba(0, 0, 0, 0.3));\n",
              "      fill: #FFFFFF;\n",
              "    }\n",
              "  </style>\n",
              "\n",
              "      <script>\n",
              "        const buttonEl =\n",
              "          document.querySelector('#df-4c51b929-a6de-4dd4-864d-29812ddc1d18 button.colab-df-convert');\n",
              "        buttonEl.style.display =\n",
              "          google.colab.kernel.accessAllowed ? 'block' : 'none';\n",
              "\n",
              "        async function convertToInteractive(key) {\n",
              "          const element = document.querySelector('#df-4c51b929-a6de-4dd4-864d-29812ddc1d18');\n",
              "          const dataTable =\n",
              "            await google.colab.kernel.invokeFunction('convertToInteractive',\n",
              "                                                     [key], {});\n",
              "          if (!dataTable) return;\n",
              "\n",
              "          const docLinkHtml = 'Like what you see? Visit the ' +\n",
              "            '<a target=\"_blank\" href=https://colab.research.google.com/notebooks/data_table.ipynb>data table notebook</a>'\n",
              "            + ' to learn more about interactive tables.';\n",
              "          element.innerHTML = '';\n",
              "          dataTable['output_type'] = 'display_data';\n",
              "          await google.colab.output.renderOutput(dataTable, element);\n",
              "          const docLink = document.createElement('div');\n",
              "          docLink.innerHTML = docLinkHtml;\n",
              "          element.appendChild(docLink);\n",
              "        }\n",
              "      </script>\n",
              "    </div>\n",
              "  </div>\n",
              "  "
            ]
          },
          "metadata": {},
          "execution_count": 7
        }
      ],
      "source": [
        "data1.head()"
      ],
      "id": "7buTBvFeqVAV"
    },
    {
      "cell_type": "code",
      "execution_count": null,
      "metadata": {
        "colab": {
          "base_uri": "https://localhost:8080/",
          "height": 300
        },
        "id": "fqAyMULn9bm8",
        "outputId": "ad5af210-60c8-480f-8203-4b2f96cabc49"
      },
      "outputs": [
        {
          "output_type": "execute_result",
          "data": {
            "text/plain": [
              "       Unnamed: 0  Motivation  Work-life balance  Stress levels  Study hours  \\\n",
              "count  223.000000  223.000000         223.000000     223.000000   223.000000   \n",
              "mean   112.000000    2.408072           2.515695       3.578475     6.116592   \n",
              "std     64.518731    1.181436           1.146273       1.143680     2.573661   \n",
              "min      1.000000    1.000000           1.000000       1.000000     0.500000   \n",
              "25%     56.500000    1.000000           2.000000       3.000000     4.000000   \n",
              "50%    112.000000    2.000000           3.000000       4.000000     6.000000   \n",
              "75%    167.500000    3.000000           3.000000       4.000000     8.000000   \n",
              "max    223.000000    5.000000           5.000000       5.000000    11.000000   \n",
              "\n",
              "           grades  \n",
              "count  223.000000  \n",
              "mean     7.615695  \n",
              "std      0.580133  \n",
              "min      6.100000  \n",
              "25%      7.300000  \n",
              "50%      7.600000  \n",
              "75%      8.000000  \n",
              "max      9.000000  "
            ],
            "text/html": [
              "\n",
              "  <div id=\"df-8b889fdd-eeab-4823-a814-d701f4cc4fde\">\n",
              "    <div class=\"colab-df-container\">\n",
              "      <div>\n",
              "<style scoped>\n",
              "    .dataframe tbody tr th:only-of-type {\n",
              "        vertical-align: middle;\n",
              "    }\n",
              "\n",
              "    .dataframe tbody tr th {\n",
              "        vertical-align: top;\n",
              "    }\n",
              "\n",
              "    .dataframe thead th {\n",
              "        text-align: right;\n",
              "    }\n",
              "</style>\n",
              "<table border=\"1\" class=\"dataframe\">\n",
              "  <thead>\n",
              "    <tr style=\"text-align: right;\">\n",
              "      <th></th>\n",
              "      <th>Unnamed: 0</th>\n",
              "      <th>Motivation</th>\n",
              "      <th>Work-life balance</th>\n",
              "      <th>Stress levels</th>\n",
              "      <th>Study hours</th>\n",
              "      <th>grades</th>\n",
              "    </tr>\n",
              "  </thead>\n",
              "  <tbody>\n",
              "    <tr>\n",
              "      <th>count</th>\n",
              "      <td>223.000000</td>\n",
              "      <td>223.000000</td>\n",
              "      <td>223.000000</td>\n",
              "      <td>223.000000</td>\n",
              "      <td>223.000000</td>\n",
              "      <td>223.000000</td>\n",
              "    </tr>\n",
              "    <tr>\n",
              "      <th>mean</th>\n",
              "      <td>112.000000</td>\n",
              "      <td>2.408072</td>\n",
              "      <td>2.515695</td>\n",
              "      <td>3.578475</td>\n",
              "      <td>6.116592</td>\n",
              "      <td>7.615695</td>\n",
              "    </tr>\n",
              "    <tr>\n",
              "      <th>std</th>\n",
              "      <td>64.518731</td>\n",
              "      <td>1.181436</td>\n",
              "      <td>1.146273</td>\n",
              "      <td>1.143680</td>\n",
              "      <td>2.573661</td>\n",
              "      <td>0.580133</td>\n",
              "    </tr>\n",
              "    <tr>\n",
              "      <th>min</th>\n",
              "      <td>1.000000</td>\n",
              "      <td>1.000000</td>\n",
              "      <td>1.000000</td>\n",
              "      <td>1.000000</td>\n",
              "      <td>0.500000</td>\n",
              "      <td>6.100000</td>\n",
              "    </tr>\n",
              "    <tr>\n",
              "      <th>25%</th>\n",
              "      <td>56.500000</td>\n",
              "      <td>1.000000</td>\n",
              "      <td>2.000000</td>\n",
              "      <td>3.000000</td>\n",
              "      <td>4.000000</td>\n",
              "      <td>7.300000</td>\n",
              "    </tr>\n",
              "    <tr>\n",
              "      <th>50%</th>\n",
              "      <td>112.000000</td>\n",
              "      <td>2.000000</td>\n",
              "      <td>3.000000</td>\n",
              "      <td>4.000000</td>\n",
              "      <td>6.000000</td>\n",
              "      <td>7.600000</td>\n",
              "    </tr>\n",
              "    <tr>\n",
              "      <th>75%</th>\n",
              "      <td>167.500000</td>\n",
              "      <td>3.000000</td>\n",
              "      <td>3.000000</td>\n",
              "      <td>4.000000</td>\n",
              "      <td>8.000000</td>\n",
              "      <td>8.000000</td>\n",
              "    </tr>\n",
              "    <tr>\n",
              "      <th>max</th>\n",
              "      <td>223.000000</td>\n",
              "      <td>5.000000</td>\n",
              "      <td>5.000000</td>\n",
              "      <td>5.000000</td>\n",
              "      <td>11.000000</td>\n",
              "      <td>9.000000</td>\n",
              "    </tr>\n",
              "  </tbody>\n",
              "</table>\n",
              "</div>\n",
              "      <button class=\"colab-df-convert\" onclick=\"convertToInteractive('df-8b889fdd-eeab-4823-a814-d701f4cc4fde')\"\n",
              "              title=\"Convert this dataframe to an interactive table.\"\n",
              "              style=\"display:none;\">\n",
              "        \n",
              "  <svg xmlns=\"http://www.w3.org/2000/svg\" height=\"24px\"viewBox=\"0 0 24 24\"\n",
              "       width=\"24px\">\n",
              "    <path d=\"M0 0h24v24H0V0z\" fill=\"none\"/>\n",
              "    <path d=\"M18.56 5.44l.94 2.06.94-2.06 2.06-.94-2.06-.94-.94-2.06-.94 2.06-2.06.94zm-11 1L8.5 8.5l.94-2.06 2.06-.94-2.06-.94L8.5 2.5l-.94 2.06-2.06.94zm10 10l.94 2.06.94-2.06 2.06-.94-2.06-.94-.94-2.06-.94 2.06-2.06.94z\"/><path d=\"M17.41 7.96l-1.37-1.37c-.4-.4-.92-.59-1.43-.59-.52 0-1.04.2-1.43.59L10.3 9.45l-7.72 7.72c-.78.78-.78 2.05 0 2.83L4 21.41c.39.39.9.59 1.41.59.51 0 1.02-.2 1.41-.59l7.78-7.78 2.81-2.81c.8-.78.8-2.07 0-2.86zM5.41 20L4 18.59l7.72-7.72 1.47 1.35L5.41 20z\"/>\n",
              "  </svg>\n",
              "      </button>\n",
              "      \n",
              "  <style>\n",
              "    .colab-df-container {\n",
              "      display:flex;\n",
              "      flex-wrap:wrap;\n",
              "      gap: 12px;\n",
              "    }\n",
              "\n",
              "    .colab-df-convert {\n",
              "      background-color: #E8F0FE;\n",
              "      border: none;\n",
              "      border-radius: 50%;\n",
              "      cursor: pointer;\n",
              "      display: none;\n",
              "      fill: #1967D2;\n",
              "      height: 32px;\n",
              "      padding: 0 0 0 0;\n",
              "      width: 32px;\n",
              "    }\n",
              "\n",
              "    .colab-df-convert:hover {\n",
              "      background-color: #E2EBFA;\n",
              "      box-shadow: 0px 1px 2px rgba(60, 64, 67, 0.3), 0px 1px 3px 1px rgba(60, 64, 67, 0.15);\n",
              "      fill: #174EA6;\n",
              "    }\n",
              "\n",
              "    [theme=dark] .colab-df-convert {\n",
              "      background-color: #3B4455;\n",
              "      fill: #D2E3FC;\n",
              "    }\n",
              "\n",
              "    [theme=dark] .colab-df-convert:hover {\n",
              "      background-color: #434B5C;\n",
              "      box-shadow: 0px 1px 3px 1px rgba(0, 0, 0, 0.15);\n",
              "      filter: drop-shadow(0px 1px 2px rgba(0, 0, 0, 0.3));\n",
              "      fill: #FFFFFF;\n",
              "    }\n",
              "  </style>\n",
              "\n",
              "      <script>\n",
              "        const buttonEl =\n",
              "          document.querySelector('#df-8b889fdd-eeab-4823-a814-d701f4cc4fde button.colab-df-convert');\n",
              "        buttonEl.style.display =\n",
              "          google.colab.kernel.accessAllowed ? 'block' : 'none';\n",
              "\n",
              "        async function convertToInteractive(key) {\n",
              "          const element = document.querySelector('#df-8b889fdd-eeab-4823-a814-d701f4cc4fde');\n",
              "          const dataTable =\n",
              "            await google.colab.kernel.invokeFunction('convertToInteractive',\n",
              "                                                     [key], {});\n",
              "          if (!dataTable) return;\n",
              "\n",
              "          const docLinkHtml = 'Like what you see? Visit the ' +\n",
              "            '<a target=\"_blank\" href=https://colab.research.google.com/notebooks/data_table.ipynb>data table notebook</a>'\n",
              "            + ' to learn more about interactive tables.';\n",
              "          element.innerHTML = '';\n",
              "          dataTable['output_type'] = 'display_data';\n",
              "          await google.colab.output.renderOutput(dataTable, element);\n",
              "          const docLink = document.createElement('div');\n",
              "          docLink.innerHTML = docLinkHtml;\n",
              "          element.appendChild(docLink);\n",
              "        }\n",
              "      </script>\n",
              "    </div>\n",
              "  </div>\n",
              "  "
            ]
          },
          "metadata": {},
          "execution_count": 8
        }
      ],
      "source": [
        "data1.describe()"
      ],
      "id": "fqAyMULn9bm8"
    },
    {
      "cell_type": "markdown",
      "metadata": {
        "id": "SO9YygUm9cey"
      },
      "source": [
        "## Attributes Analysis"
      ],
      "id": "SO9YygUm9cey"
    },
    {
      "cell_type": "code",
      "execution_count": null,
      "metadata": {
        "colab": {
          "base_uri": "https://localhost:8080/"
        },
        "id": "P7-0_octjmzH",
        "outputId": "b4c7da43-9e88-466e-c2a0-d2fece2c438e"
      },
      "outputs": [
        {
          "output_type": "execute_result",
          "data": {
            "text/plain": [
              "Undergraduate    133\n",
              "Postgraduate      82\n",
              "Doctorate          8\n",
              "Name: Degree, dtype: int64"
            ]
          },
          "metadata": {},
          "execution_count": 9
        }
      ],
      "source": [
        "data1['Degree'].value_counts()"
      ],
      "id": "P7-0_octjmzH"
    },
    {
      "cell_type": "code",
      "execution_count": null,
      "metadata": {
        "colab": {
          "base_uri": "https://localhost:8080/",
          "height": 264
        },
        "id": "S-AV6eZ3ZIlB",
        "outputId": "1d588534-24f0-421d-d63c-e2206630165e"
      },
      "outputs": [
        {
          "output_type": "display_data",
          "data": {
            "text/plain": [
              "<Figure size 432x288 with 1 Axes>"
            ],
            "image/png": "[encoded data removed]"
          },
          "metadata": {}
        }
      ],
      "source": [
        "plt.pie([133,82,8],labels=['Undergraduate','Postgraduate','Doctorate'], autopct='%1.1f%%')\n",
        "plt.title(\"Degree\")\n",
        "plt.show()"
      ],
      "id": "S-AV6eZ3ZIlB"
    },
    {
      "cell_type": "code",
      "execution_count": null,
      "metadata": {
        "colab": {
          "base_uri": "https://localhost:8080/"
        },
        "id": "qQ8VJzEai2Wf",
        "outputId": "dd362e2b-3e70-436b-95b0-9ff2123f3eff"
      },
      "outputs": [
        {
          "output_type": "execute_result",
          "data": {
            "text/plain": [
              "Male      174\n",
              "Female     49\n",
              "Name: Gender, dtype: int64"
            ]
          },
          "metadata": {},
          "execution_count": 11
        }
      ],
      "source": [
        "data1['Gender'].value_counts()"
      ],
      "id": "qQ8VJzEai2Wf"
    },
    {
      "cell_type": "code",
      "execution_count": null,
      "metadata": {
        "colab": {
          "base_uri": "https://localhost:8080/",
          "height": 264
        },
        "id": "4lPHNfziZU3o",
        "outputId": "3a920d50-bc78-4002-b044-2d65c3a72262"
      },
      "outputs": [
        {
          "output_type": "display_data",
          "data": {
            "text/plain": [
              "<Figure size 432x288 with 1 Axes>"
            ],
            "image/png": "[encoded data removed]"
          },
          "metadata": {}
        }
      ],
      "source": [
        "plt.pie([174,49],labels=['Male','Female'], autopct='%1.1f%%')\n",
        "plt.title(\"Gender\")\n",
        "plt.show()"
      ],
      "id": "4lPHNfziZU3o"
    },
    {
      "cell_type": "code",
      "execution_count": null,
      "metadata": {
        "colab": {
          "base_uri": "https://localhost:8080/"
        },
        "id": "s8-5XeV29nsU",
        "outputId": "fdad3b60-bae7-42f7-830f-99414f03ab6f"
      },
      "outputs": [
        {
          "output_type": "execute_result",
          "data": {
            "text/plain": [
              "Rarely        96\n",
              "Moderate      83\n",
              "Very often    38\n",
              "Never          6\n",
              "Name: Internet connectivity issues, dtype: int64"
            ]
          },
          "metadata": {},
          "execution_count": 13
        }
      ],
      "source": [
        "data1.iloc[:,3].value_counts()"
      ],
      "id": "s8-5XeV29nsU"
    },
    {
      "cell_type": "code",
      "execution_count": null,
      "metadata": {
        "colab": {
          "base_uri": "https://localhost:8080/",
          "height": 264
        },
        "id": "kgGd9LqsZh1z",
        "outputId": "8aea595c-3030-4113-d64d-81a6a4e2584d"
      },
      "outputs": [
        {
          "output_type": "display_data",
          "data": {
            "text/plain": [
              "<Figure size 432x288 with 1 Axes>"
            ],
            "image/png": "[encoded data removed]"
          },
          "metadata": {}
        }
      ],
      "source": [
        "plt.pie([96,83,38,6],labels=['Rarely','Moderate','Very often','Never'], autopct='%1.1f%%')\n",
        "plt.title('Internet connectivity issues')\n",
        "plt.show()"
      ],
      "id": "kgGd9LqsZh1z"
    },
    {
      "cell_type": "code",
      "execution_count": null,
      "metadata": {
        "colab": {
          "base_uri": "https://localhost:8080/"
        },
        "id": "CJYiIbKr-IUQ",
        "outputId": "b9a70833-1040-49e0-e18e-47035a2bf2e6"
      },
      "outputs": [
        {
          "output_type": "execute_result",
          "data": {
            "text/plain": [
              "Urban    150\n",
              "Rural     73\n",
              "Name: Area, dtype: int64"
            ]
          },
          "metadata": {},
          "execution_count": 15
        }
      ],
      "source": [
        "data1.iloc[:,4].value_counts()"
      ],
      "id": "CJYiIbKr-IUQ"
    },
    {
      "cell_type": "code",
      "execution_count": null,
      "metadata": {
        "colab": {
          "base_uri": "https://localhost:8080/",
          "height": 264
        },
        "id": "TzY9Z6l_Z6pE",
        "outputId": "13aae99b-a50d-418e-d8ff-97757b199e40"
      },
      "outputs": [
        {
          "output_type": "display_data",
          "data": {
            "text/plain": [
              "<Figure size 432x288 with 1 Axes>"
            ],
            "image/png": "[encoded data removed]"
          },
          "metadata": {}
        }
      ],
      "source": [
        "plt.pie([150,73],labels=['Urban','Rural'], autopct='%1.1f%%')\n",
        "plt.title('Area')\n",
        "plt.show()"
      ],
      "id": "TzY9Z6l_Z6pE"
    },
    {
      "cell_type": "code",
      "execution_count": null,
      "metadata": {
        "colab": {
          "base_uri": "https://localhost:8080/"
        },
        "id": "woi2KwOH-LnZ",
        "outputId": "537bc755-f068-40d0-d8c7-01f90b1ca805"
      },
      "outputs": [
        {
          "output_type": "execute_result",
          "data": {
            "text/plain": [
              "Live Session, Recorded Videos, Doubt sessions    82\n",
              "Live Session                                     49\n",
              "Live Session, Recorded Videos                    36\n",
              "Recorded Videos, Live Session                    22\n",
              "Recorded Videos, Doubt Session, Live Session     18\n",
              "Recorded Videos                                   6\n",
              "Live Session, Doubt sessions                      4\n",
              "Doubt sessions                                    2\n",
              "Recorded Videos, Doubt sessions                   2\n",
              "Doubt Session, Live Session                       2\n",
              "Name: Lecture Modes, dtype: int64"
            ]
          },
          "metadata": {},
          "execution_count": 17
        }
      ],
      "source": [
        "data1.iloc[:,5].value_counts()"
      ],
      "id": "woi2KwOH-LnZ"
    },
    {
      "cell_type": "code",
      "execution_count": null,
      "metadata": {
        "colab": {
          "base_uri": "https://localhost:8080/"
        },
        "id": "2GLc9ZCp-N79",
        "outputId": "7f586cb4-73fd-4b7a-cb18-63582465ecc5"
      },
      "outputs": [
        {
          "output_type": "execute_result",
          "data": {
            "text/plain": [
              "Moderate     96\n",
              "Good         66\n",
              "Bad          32\n",
              "Very bad     15\n",
              "Very good     7\n",
              "Very Bad      4\n",
              "Very Good     3\n",
              "Name: Online learning content quality, dtype: int64"
            ]
          },
          "metadata": {},
          "execution_count": 18
        }
      ],
      "source": [
        "data1.iloc[:,6].value_counts()"
      ],
      "id": "2GLc9ZCp-N79"
    },
    {
      "cell_type": "code",
      "execution_count": null,
      "metadata": {
        "colab": {
          "base_uri": "https://localhost:8080/"
        },
        "id": "ILNMavRt-gJP",
        "outputId": "e53c0231-ebfd-4f7e-88b9-33f8c5882d8d"
      },
      "outputs": [
        {
          "output_type": "execute_result",
          "data": {
            "text/plain": [
              "Most    113\n",
              "Few     107\n",
              "None      3\n",
              "Name: Class interaction with instructors, dtype: int64"
            ]
          },
          "metadata": {},
          "execution_count": 19
        }
      ],
      "source": [
        "data1.iloc[:,7].value_counts()"
      ],
      "id": "ILNMavRt-gJP"
    },
    {
      "cell_type": "code",
      "execution_count": null,
      "metadata": {
        "colab": {
          "base_uri": "https://localhost:8080/"
        },
        "id": "ddPimuLF-iBN",
        "outputId": "9547c53f-d4f3-4792-9717-a5fc8883a90d"
      },
      "outputs": [
        {
          "output_type": "execute_result",
          "data": {
            "text/plain": [
              "Few     113\n",
              "None     66\n",
              "Most     44\n",
              "Name: Personalized Interaction with instructors, dtype: int64"
            ]
          },
          "metadata": {},
          "execution_count": 20
        }
      ],
      "source": [
        "data1.iloc[:,8].value_counts()"
      ],
      "id": "ddPimuLF-iBN"
    },
    {
      "cell_type": "code",
      "execution_count": null,
      "metadata": {
        "colab": {
          "base_uri": "https://localhost:8080/"
        },
        "id": "rhqunBLU-m7h",
        "outputId": "49aab307-f2f1-45b0-e9ea-2065fff26f08"
      },
      "outputs": [
        {
          "output_type": "execute_result",
          "data": {
            "text/plain": [
              "Low         130\n",
              "Moderate     80\n",
              "High         13\n",
              "Name: Level of interaction with your batchmates?, dtype: int64"
            ]
          },
          "metadata": {},
          "execution_count": 21
        }
      ],
      "source": [
        "data1.iloc[:,9].value_counts()"
      ],
      "id": "rhqunBLU-m7h"
    },
    {
      "cell_type": "code",
      "execution_count": null,
      "metadata": {
        "colab": {
          "base_uri": "https://localhost:8080/"
        },
        "id": "Yaz5qXvW-pPK",
        "outputId": "459f19dc-ea0e-4ca5-abd6-6afd1d8485df"
      },
      "outputs": [
        {
          "output_type": "execute_result",
          "data": {
            "text/plain": [
              "2    63\n",
              "1    62\n",
              "3    54\n",
              "4    33\n",
              "5    11\n",
              "Name: Motivation, dtype: int64"
            ]
          },
          "metadata": {},
          "execution_count": 22
        }
      ],
      "source": [
        "data1.iloc[:,10].value_counts()"
      ],
      "id": "Yaz5qXvW-pPK"
    },
    {
      "cell_type": "code",
      "execution_count": null,
      "metadata": {
        "colab": {
          "base_uri": "https://localhost:8080/"
        },
        "id": "LjqiSZhX-q8h",
        "outputId": "ff910767-e6c5-48ea-ec66-fc499d15072f"
      },
      "outputs": [
        {
          "output_type": "execute_result",
          "data": {
            "text/plain": [
              "3    71\n",
              "2    56\n",
              "1    53\n",
              "4    32\n",
              "5    11\n",
              "Name: Work-life balance, dtype: int64"
            ]
          },
          "metadata": {},
          "execution_count": 23
        }
      ],
      "source": [
        "data1.iloc[:,11].value_counts()"
      ],
      "id": "LjqiSZhX-q8h"
    },
    {
      "cell_type": "code",
      "execution_count": null,
      "metadata": {
        "colab": {
          "base_uri": "https://localhost:8080/"
        },
        "id": "BAiwNFbm-slH",
        "outputId": "9f2bcbf6-2c5f-4d47-9dae-11d23be309d0"
      },
      "outputs": [
        {
          "output_type": "execute_result",
          "data": {
            "text/plain": [
              "Quiet    113\n",
              "Noisy    110\n",
              "Name: Study environment, dtype: int64"
            ]
          },
          "metadata": {},
          "execution_count": 24
        }
      ],
      "source": [
        "data1.iloc[:,12].value_counts()"
      ],
      "id": "BAiwNFbm-slH"
    },
    {
      "cell_type": "code",
      "execution_count": null,
      "metadata": {
        "colab": {
          "base_uri": "https://localhost:8080/"
        },
        "id": "uhpe_7Ab-t5r",
        "outputId": "6e1391fc-1504-49f1-def8-113a4ac0791d"
      },
      "outputs": [
        {
          "output_type": "execute_result",
          "data": {
            "text/plain": [
              "4    77\n",
              "5    53\n",
              "3    50\n",
              "2    32\n",
              "1    11\n",
              "Name: Stress levels, dtype: int64"
            ]
          },
          "metadata": {},
          "execution_count": 25
        }
      ],
      "source": [
        "data1.iloc[:,13].value_counts()"
      ],
      "id": "uhpe_7Ab-t5r"
    },
    {
      "cell_type": "code",
      "execution_count": null,
      "metadata": {
        "colab": {
          "base_uri": "https://localhost:8080/"
        },
        "id": "Ej6rEqaJ-xUr",
        "outputId": "5ae32201-7dd7-43ff-f9d7-74cf09edc1a4"
      },
      "outputs": [
        {
          "output_type": "execute_result",
          "data": {
            "text/plain": [
              "Moderate    102\n",
              "Bad          72\n",
              "Good         49\n",
              "Name: Online examination experience, dtype: int64"
            ]
          },
          "metadata": {},
          "execution_count": 26
        }
      ],
      "source": [
        "data1.iloc[:,14].value_counts()"
      ],
      "id": "Ej6rEqaJ-xUr"
    },
    {
      "cell_type": "code",
      "execution_count": null,
      "metadata": {
        "colab": {
          "base_uri": "https://localhost:8080/"
        },
        "id": "_1ZcEFXe-zVr",
        "outputId": "18848c93-a2a7-49f4-c9dc-ceff81b140cf"
      },
      "outputs": [
        {
          "output_type": "execute_result",
          "data": {
            "text/plain": [
              "8.0     40\n",
              "6.0     29\n",
              "10.0    28\n",
              "5.0     25\n",
              "4.0     25\n",
              "3.0     20\n",
              "7.0     19\n",
              "2.0     13\n",
              "9.0     11\n",
              "1.0      5\n",
              "4.5      2\n",
              "11.0     2\n",
              "2.5      2\n",
              "0.5      1\n",
              "5.5      1\n",
              "Name: Study hours, dtype: int64"
            ]
          },
          "metadata": {},
          "execution_count": 27
        }
      ],
      "source": [
        "data1.iloc[:,15].value_counts()"
      ],
      "id": "_1ZcEFXe-zVr"
    },
    {
      "cell_type": "code",
      "execution_count": null,
      "metadata": {
        "colab": {
          "base_uri": "https://localhost:8080/"
        },
        "id": "5AT5qiXd-1zN",
        "outputId": "726bc4dd-7c5a-444a-ff23-903e6d99ce31"
      },
      "outputs": [
        {
          "output_type": "execute_result",
          "data": {
            "text/plain": [
              "7.5    22\n",
              "7.6    19\n",
              "8.0    18\n",
              "7.8    15\n",
              "7.4    14\n",
              "8.1    13\n",
              "7.2    13\n",
              "7.3    12\n",
              "7.7    12\n",
              "7.9    10\n",
              "8.6     8\n",
              "7.0     8\n",
              "6.8     6\n",
              "6.9     6\n",
              "6.7     5\n",
              "7.1     5\n",
              "8.2     5\n",
              "6.4     4\n",
              "8.8     4\n",
              "8.5     4\n",
              "8.4     4\n",
              "8.7     3\n",
              "6.6     3\n",
              "6.3     2\n",
              "6.5     2\n",
              "8.9     2\n",
              "8.3     2\n",
              "6.1     1\n",
              "9.0     1\n",
              "Name: grades, dtype: int64"
            ]
          },
          "metadata": {},
          "execution_count": 28
        }
      ],
      "source": [
        "data1.iloc[:,16].value_counts()"
      ],
      "id": "5AT5qiXd-1zN"
    },
    {
      "cell_type": "markdown",
      "metadata": {
        "id": "GDi429prXXL_"
      },
      "source": [
        "### Visualization plots"
      ],
      "id": "GDi429prXXL_"
    },
    {
      "cell_type": "code",
      "execution_count": null,
      "metadata": {
        "id": "kKxL8WHVY7yZ"
      },
      "outputs": [],
      "source": [],
      "id": "kKxL8WHVY7yZ"
    },
    {
      "cell_type": "code",
      "execution_count": null,
      "metadata": {
        "colab": {
          "base_uri": "https://localhost:8080/",
          "height": 320
        },
        "id": "y8px6_mdXgyN",
        "outputId": "12721c4c-e46e-4c98-bc47-57a552aa82d7"
      },
      "outputs": [
        {
          "output_type": "execute_result",
          "data": {
            "text/plain": [
              "(array([ 3.,  9., 17., 26., 48., 46., 41., 11., 15.,  7.]),\n",
              " array([6.1 , 6.39, 6.68, 6.97, 7.26, 7.55, 7.84, 8.13, 8.42, 8.71, 9.  ]),\n",
              " <a list of 10 Patch objects>)"
            ]
          },
          "metadata": {},
          "execution_count": 29
        },
        {
          "output_type": "display_data",
          "data": {
            "text/plain": [
              "<Figure size 432x288 with 1 Axes>"
            ],
            "image/png": "[encoded data removed]"
          },
          "metadata": {
            "needs_background": "light"
          }
        }
      ],
      "source": [
        "# Grades\n",
        "plt.hist(data1['grades'],bins=10)"
      ],
      "id": "y8px6_mdXgyN"
    },
    {
      "cell_type": "code",
      "execution_count": null,
      "metadata": {
        "colab": {
          "base_uri": "https://localhost:8080/",
          "height": 334
        },
        "id": "wTt34eFwXxCJ",
        "outputId": "45d7cd87-cf58-4bf4-e37c-bc8c1fabab84"
      },
      "outputs": [
        {
          "output_type": "execute_result",
          "data": {
            "text/plain": [
              "(array([ 6., 15., 20., 27., 26., 29., 19., 40., 11., 30.]),\n",
              " array([ 0.5 ,  1.55,  2.6 ,  3.65,  4.7 ,  5.75,  6.8 ,  7.85,  8.9 ,\n",
              "         9.95, 11.  ]),\n",
              " <a list of 10 Patch objects>)"
            ]
          },
          "metadata": {},
          "execution_count": 30
        },
        {
          "output_type": "display_data",
          "data": {
            "text/plain": [
              "<Figure size 432x288 with 1 Axes>"
            ],
            "image/png": "[encoded data removed]"
          },
          "metadata": {
            "needs_background": "light"
          }
        }
      ],
      "source": [
        "#Study hours \n",
        "plt.hist(data1['Study hours'],bins=10)"
      ],
      "id": "wTt34eFwXxCJ"
    },
    {
      "cell_type": "code",
      "execution_count": null,
      "metadata": {
        "id": "OxzKDAslXabO"
      },
      "outputs": [],
      "source": [],
      "id": "OxzKDAslXabO"
    },
    {
      "cell_type": "code",
      "execution_count": null,
      "metadata": {
        "id": "9DFDbdqTaYGI"
      },
      "outputs": [],
      "source": [
        "cols =  ['grades','Study hours']"
      ],
      "id": "9DFDbdqTaYGI"
    },
    {
      "cell_type": "code",
      "execution_count": null,
      "metadata": {
        "colab": {
          "base_uri": "https://localhost:8080/",
          "height": 391
        },
        "id": "N0rBTUBgaI5o",
        "outputId": "9526b8ff-13f2-4832-bf9f-0242688964e1"
      },
      "outputs": [
        {
          "output_type": "execute_result",
          "data": {
            "text/plain": [
              "<seaborn.axisgrid.PairGrid at 0x7fe8b9c42550>"
            ]
          },
          "metadata": {},
          "execution_count": 32
        },
        {
          "output_type": "display_data",
          "data": {
            "text/plain": [
              "<Figure size 360x360 with 6 Axes>"
            ],
            "image/png": "[encoded data removed]"
          },
          "metadata": {
            "needs_background": "light"
          }
        }
      ],
      "source": [
        "#Comparison of numerical attributes for postgraduates\n",
        "sns.pairplot(data1[data1['Degree'] == 'Postgraduate' ].loc[:,cols])"
      ],
      "id": "N0rBTUBgaI5o"
    },
    {
      "cell_type": "code",
      "execution_count": null,
      "metadata": {
        "colab": {
          "base_uri": "https://localhost:8080/",
          "height": 391
        },
        "id": "qDFRHMXfdNdo",
        "outputId": "aea8faf8-8604-4437-d6ed-194780b929aa"
      },
      "outputs": [
        {
          "output_type": "execute_result",
          "data": {
            "text/plain": [
              "<seaborn.axisgrid.PairGrid at 0x7fe8b6a1ef90>"
            ]
          },
          "metadata": {},
          "execution_count": 33
        },
        {
          "output_type": "display_data",
          "data": {
            "text/plain": [
              "<Figure size 360x360 with 6 Axes>"
            ],
            "image/png": "[encoded data removed]"
          },
          "metadata": {
            "needs_background": "light"
          }
        }
      ],
      "source": [
        "#Comparison of numerical attributes for undergraduates\n",
        "sns.pairplot(data1[data1['Degree'] == 'Undergraduate' ].loc[:,cols])"
      ],
      "id": "qDFRHMXfdNdo"
    },
    {
      "cell_type": "code",
      "execution_count": null,
      "metadata": {
        "colab": {
          "base_uri": "https://localhost:8080/",
          "height": 391
        },
        "id": "XQphIE-kirRy",
        "outputId": "c846da33-0722-4b5d-d029-15ad09488bc5"
      },
      "outputs": [
        {
          "output_type": "execute_result",
          "data": {
            "text/plain": [
              "<seaborn.axisgrid.PairGrid at 0x7fe8b68e6ad0>"
            ]
          },
          "metadata": {},
          "execution_count": 34
        },
        {
          "output_type": "display_data",
          "data": {
            "text/plain": [
              "<Figure size 360x360 with 6 Axes>"
            ],
            "image/png": "[encoded data removed]"
          },
          "metadata": {
            "needs_background": "light"
          }
        }
      ],
      "source": [
        "#Comparison of numerical attributes of Male responses\n",
        "sns.pairplot(data1[data1['Gender'] == 'Male' ].loc[:,cols])"
      ],
      "id": "XQphIE-kirRy"
    },
    {
      "cell_type": "code",
      "execution_count": null,
      "metadata": {
        "colab": {
          "base_uri": "https://localhost:8080/",
          "height": 391
        },
        "id": "WRykNQrkiv8T",
        "outputId": "0f8a6e3e-e680-46e4-9cd9-0062c16d5380"
      },
      "outputs": [
        {
          "output_type": "execute_result",
          "data": {
            "text/plain": [
              "<seaborn.axisgrid.PairGrid at 0x7fe8b66b5a50>"
            ]
          },
          "metadata": {},
          "execution_count": 35
        },
        {
          "output_type": "display_data",
          "data": {
            "text/plain": [
              "<Figure size 360x360 with 6 Axes>"
            ],
            "image/png": "[encoded data removed]"
          },
          "metadata": {
            "needs_background": "light"
          }
        }
      ],
      "source": [
        "#Comparison of numerical attributes for Female responses\n",
        "sns.pairplot(data1[data1['Gender'] == 'Female' ].loc[:,cols])"
      ],
      "id": "WRykNQrkiv8T"
    },
    {
      "cell_type": "code",
      "execution_count": null,
      "metadata": {
        "id": "8rWjb0DfxdiG"
      },
      "outputs": [],
      "source": [
        "grades = list(data1[data1['Area'] == 'Urban']['grades'])\n",
        "grades.sort()\n",
        "\n",
        "mid = len(grades) // 2\n",
        "grades1 = grades[mid:]\n",
        "mid = len(grades1) // 2\n",
        "res = (grades1[mid] + grades1[~mid]) / 2"
      ],
      "id": "8rWjb0DfxdiG"
    },
    {
      "cell_type": "code",
      "source": [
        "res"
      ],
      "metadata": {
        "colab": {
          "base_uri": "https://localhost:8080/"
        },
        "id": "kx_qX5yg7cfO",
        "outputId": "19fee580-94d2-42d2-ceef-d59fd338cee8"
      },
      "id": "kx_qX5yg7cfO",
      "execution_count": null,
      "outputs": [
        {
          "output_type": "execute_result",
          "data": {
            "text/plain": [
              "8.0"
            ]
          },
          "metadata": {},
          "execution_count": 37
        }
      ]
    },
    {
      "cell_type": "code",
      "execution_count": null,
      "metadata": {
        "colab": {
          "base_uri": "https://localhost:8080/"
        },
        "id": "m9RHvkeK1OBt",
        "outputId": "1c17d086-f059-429c-c67c-bf59d9d0ab8d"
      },
      "outputs": [
        {
          "output_type": "execute_result",
          "data": {
            "text/plain": [
              "6.4"
            ]
          },
          "metadata": {},
          "execution_count": 38
        }
      ],
      "source": [
        "min(data1[data1['Area'] == 'Urban']['grades'])"
      ],
      "id": "m9RHvkeK1OBt"
    },
    {
      "cell_type": "code",
      "execution_count": null,
      "metadata": {
        "colab": {
          "base_uri": "https://localhost:8080/",
          "height": 606
        },
        "id": "wU3uOHlR_sAt",
        "outputId": "fa977bd4-4e78-4168-f9a8-353d65ecea40"
      },
      "outputs": [
        {
          "output_type": "stream",
          "name": "stderr",
          "text": [
            "/usr/local/lib/python3.7/dist-packages/matplotlib/cbook/__init__.py:1376: VisibleDeprecationWarning: Creating an ndarray from ragged nested sequences (which is a list-or-tuple of lists-or-tuples-or ndarrays with different lengths or shapes) is deprecated. If you meant to do this, you must specify 'dtype=object' when creating the ndarray.\n",
            "  X = np.atleast_1d(X.T if isinstance(X, np.ndarray) else np.asarray(X))\n"
          ]
        },
        {
          "output_type": "display_data",
          "data": {
            "text/plain": [
              "<Figure size 720x504 with 1 Axes>"
            ],
            "image/png": "[encoded data removed]"
          },
          "metadata": {
            "needs_background": "light"
          }
        }
      ],
      "source": [
        "#Box plot to analyse grades of different categories\n",
        "\n",
        "data_1 = data1[data1['Degree'] == 'Postgraduate']['grades']\n",
        "data_2 = data1[data1['Degree'] == 'Undergraduate']['grades']\n",
        "data_3 = data1[data1['Gender'] == 'Male']['grades']\n",
        "data_4 = data1[data1['Gender'] == 'Female']['grades']\n",
        "data = [data_1, data_2, data_3, data_4]\n",
        " \n",
        "fig = plt.figure(figsize =(10, 7))\n",
        " \n",
        "# Creating axes instance\n",
        "ax = fig.add_axes([0, 0, 1, 1])\n",
        " \n",
        "# Creating plot\n",
        "bp = ax.boxplot(data,labels = ['PG','UG','Male','Female'])\n",
        " \n",
        "# show plot\n",
        "plt.show()"
      ],
      "id": "wU3uOHlR_sAt"
    },
    {
      "cell_type": "code",
      "execution_count": null,
      "metadata": {
        "colab": {
          "base_uri": "https://localhost:8080/",
          "height": 606
        },
        "id": "Bkm7UFWbBgpb",
        "outputId": "0b0cd1ad-f03f-4ccf-a6c9-39c1c655f24d"
      },
      "outputs": [
        {
          "output_type": "stream",
          "name": "stderr",
          "text": [
            "/usr/local/lib/python3.7/dist-packages/matplotlib/cbook/__init__.py:1376: VisibleDeprecationWarning: Creating an ndarray from ragged nested sequences (which is a list-or-tuple of lists-or-tuples-or ndarrays with different lengths or shapes) is deprecated. If you meant to do this, you must specify 'dtype=object' when creating the ndarray.\n",
            "  X = np.atleast_1d(X.T if isinstance(X, np.ndarray) else np.asarray(X))\n"
          ]
        },
        {
          "output_type": "display_data",
          "data": {
            "text/plain": [
              "<Figure size 720x504 with 1 Axes>"
            ],
            "image/png": "[encoded data removed]"
          },
          "metadata": {
            "needs_background": "light"
          }
        }
      ],
      "source": [
        "#How area location affects grades\n",
        "\n",
        "data_1 = data1[data1['Area'] == 'Urban']['grades']\n",
        "data_2 = data1[data1['Area'] == 'Rural']['grades']\n",
        "\n",
        "data = [data_1, data_2]\n",
        " \n",
        "fig = plt.figure(figsize =(10, 7))\n",
        " \n",
        "# Creating axes instance\n",
        "ax = fig.add_axes([0,0,1,1])\n",
        "# Creating plot\n",
        "bp = ax.boxplot(data,labels = ['Urban','Rural'])\n",
        " \n",
        "# show plot\n",
        "plt.show()"
      ],
      "id": "Bkm7UFWbBgpb"
    },
    {
      "cell_type": "code",
      "execution_count": null,
      "metadata": {
        "colab": {
          "base_uri": "https://localhost:8080/",
          "height": 606
        },
        "id": "sF827A1gDZ8V",
        "outputId": "cba8fe33-90de-4c43-9cf2-0870b24ec6d7"
      },
      "outputs": [
        {
          "output_type": "stream",
          "name": "stderr",
          "text": [
            "/usr/local/lib/python3.7/dist-packages/matplotlib/cbook/__init__.py:1376: VisibleDeprecationWarning: Creating an ndarray from ragged nested sequences (which is a list-or-tuple of lists-or-tuples-or ndarrays with different lengths or shapes) is deprecated. If you meant to do this, you must specify 'dtype=object' when creating the ndarray.\n",
            "  X = np.atleast_1d(X.T if isinstance(X, np.ndarray) else np.asarray(X))\n"
          ]
        },
        {
          "output_type": "display_data",
          "data": {
            "text/plain": [
              "<Figure size 720x504 with 1 Axes>"
            ],
            "image/png": "[encoded data removed]"
          },
          "metadata": {
            "needs_background": "light"
          }
        }
      ],
      "source": [
        "#How area location affects grades\n",
        "\n",
        "data_1 = data1[data1['Study environment'] == 'Noisy']['grades']\n",
        "data_2 = data1[data1['Study environment'] == 'Quiet']['grades']\n",
        "\n",
        "data = [data_1, data_2]\n",
        " \n",
        "fig = plt.figure(figsize =(10, 7))\n",
        " \n",
        "# Creating axes instance\n",
        "ax = fig.add_axes([0,0,1,1])\n",
        "# Creating plot\n",
        "bp = ax.boxplot(data,labels = ['Noisy','Quiet'])\n",
        " \n",
        "# show plot\n",
        "plt.show()"
      ],
      "id": "sF827A1gDZ8V"
    },
    {
      "cell_type": "code",
      "execution_count": null,
      "metadata": {
        "id": "_l4PnfhWLrr3"
      },
      "outputs": [],
      "source": [],
      "id": "_l4PnfhWLrr3"
    },
    {
      "cell_type": "code",
      "execution_count": null,
      "metadata": {
        "colab": {
          "base_uri": "https://localhost:8080/",
          "height": 606
        },
        "id": "dEo0kOalCLWf",
        "outputId": "46fc26ac-1ea4-47ea-9970-44c0845d241e"
      },
      "outputs": [
        {
          "output_type": "stream",
          "name": "stderr",
          "text": [
            "/usr/local/lib/python3.7/dist-packages/matplotlib/cbook/__init__.py:1376: VisibleDeprecationWarning: Creating an ndarray from ragged nested sequences (which is a list-or-tuple of lists-or-tuples-or ndarrays with different lengths or shapes) is deprecated. If you meant to do this, you must specify 'dtype=object' when creating the ndarray.\n",
            "  X = np.atleast_1d(X.T if isinstance(X, np.ndarray) else np.asarray(X))\n"
          ]
        },
        {
          "output_type": "display_data",
          "data": {
            "text/plain": [
              "<Figure size 720x504 with 1 Axes>"
            ],
            "image/png": "[encoded data removed]"
          },
          "metadata": {
            "needs_background": "light"
          }
        }
      ],
      "source": [
        "#How Internet Connectivity affects grades\n",
        "\n",
        "data_1 = data1[data1['Internet connectivity issues'] == 'Rarely']['grades']\n",
        "data_2 = data1[data1['Internet connectivity issues'] == 'Moderate']['grades']\n",
        "data_3 = data1[data1['Internet connectivity issues'] == 'Very often']['grades']\n",
        "data_4 = data1[data1['Internet connectivity issues'] == 'Never']['grades']\n",
        "\n",
        "data = [data_1, data_2,data_3,data_4]\n",
        " \n",
        "fig = plt.figure(figsize =(10, 7))\n",
        " \n",
        "# Creating axes instance\n",
        "ax = fig.add_axes([0,0,1,1])\n",
        "# Creating plot\n",
        "bp = ax.boxplot(data,labels = ['Rarely','Moderate','Very often','Never'])\n",
        " \n",
        "# show plot\n",
        "plt.show()"
      ],
      "id": "dEo0kOalCLWf"
    },
    {
      "cell_type": "code",
      "execution_count": null,
      "metadata": {
        "id": "QAVZ6iB9DEIn"
      },
      "outputs": [],
      "source": [],
      "id": "QAVZ6iB9DEIn"
    },
    {
      "cell_type": "code",
      "execution_count": null,
      "metadata": {
        "colab": {
          "base_uri": "https://localhost:8080/",
          "height": 1000
        },
        "id": "fc523761",
        "outputId": "99743aa7-9f2e-4a6f-99c0-bce86729c284"
      },
      "outputs": [
        {
          "output_type": "display_data",
          "data": {
            "text/plain": [
              "<Figure size 1440x1800 with 8 Axes>"
            ],
            "image/png": "[encoded data removed]"
          },
          "metadata": {
            "needs_background": "light"
          }
        }
      ],
      "source": [
        "w=20\n",
        "h=25\n",
        "\n",
        "fig = plt.figure(figsize=(w, h))\n",
        "columns = 3\n",
        "rows = 3\n",
        "i=1\n",
        "for col in data1.columns[9:]:\n",
        "    column = data1[[col]]\n",
        "    fig.add_subplot(rows, columns, i)\n",
        "    i+=1\n",
        "    plt.title(col)\n",
        "    column.value_counts().plot(kind='bar')\n",
        "plt.show()"
      ],
      "id": "fc523761"
    },
    {
      "cell_type": "code",
      "execution_count": null,
      "metadata": {
        "id": "J6LUf_m7av6I"
      },
      "outputs": [],
      "source": [
        "##Stacked bar charts"
      ],
      "id": "J6LUf_m7av6I"
    },
    {
      "cell_type": "code",
      "execution_count": null,
      "metadata": {
        "colab": {
          "base_uri": "https://localhost:8080/",
          "height": 234
        },
        "id": "f0249ad7",
        "outputId": "72036efa-88fb-494a-8a1b-5b15f07421fa"
      },
      "outputs": [
        {
          "output_type": "error",
          "ename": "TypeError",
          "evalue": "ignored",
          "traceback": [
            "\u001b[0;31m---------------------------------------------------------------------------\u001b[0m",
            "\u001b[0;31mTypeError\u001b[0m                                 Traceback (most recent call last)",
            "\u001b[0;32m<ipython-input-45-372b24d0fff7>\u001b[0m in \u001b[0;36m<module>\u001b[0;34m()\u001b[0m\n\u001b[0;32m----> 1\u001b[0;31m \u001b[0mdata\u001b[0m\u001b[0;34m[\u001b[0m\u001b[0;34m'Live Session'\u001b[0m\u001b[0;34m]\u001b[0m \u001b[0;34m=\u001b[0m \u001b[0mdata\u001b[0m\u001b[0;34m[\u001b[0m\u001b[0;34m'Lecture Modes'\u001b[0m\u001b[0;34m]\u001b[0m\u001b[0;34m.\u001b[0m\u001b[0mstr\u001b[0m\u001b[0;34m.\u001b[0m\u001b[0mcontains\u001b[0m\u001b[0;34m(\u001b[0m\u001b[0;34m\"Live\"\u001b[0m\u001b[0;34m)\u001b[0m\u001b[0;34m\u001b[0m\u001b[0;34m\u001b[0m\u001b[0m\n\u001b[0m\u001b[1;32m      2\u001b[0m \u001b[0mdata\u001b[0m\u001b[0;34m[\u001b[0m\u001b[0;34m'Doubt sessions'\u001b[0m\u001b[0;34m]\u001b[0m \u001b[0;34m=\u001b[0m \u001b[0mdata\u001b[0m\u001b[0;34m[\u001b[0m\u001b[0;34m'Lecture Modes'\u001b[0m\u001b[0;34m]\u001b[0m\u001b[0;34m.\u001b[0m\u001b[0mstr\u001b[0m\u001b[0;34m.\u001b[0m\u001b[0mcontains\u001b[0m\u001b[0;34m(\u001b[0m\u001b[0;34m\"Doubt\"\u001b[0m\u001b[0;34m)\u001b[0m\u001b[0;34m\u001b[0m\u001b[0;34m\u001b[0m\u001b[0m\n\u001b[1;32m      3\u001b[0m \u001b[0mdata\u001b[0m\u001b[0;34m[\u001b[0m\u001b[0;34m'Recorded Videos'\u001b[0m\u001b[0;34m]\u001b[0m \u001b[0;34m=\u001b[0m \u001b[0mdata\u001b[0m\u001b[0;34m[\u001b[0m\u001b[0;34m'Lecture Modes'\u001b[0m\u001b[0;34m]\u001b[0m\u001b[0;34m.\u001b[0m\u001b[0mstr\u001b[0m\u001b[0;34m.\u001b[0m\u001b[0mcontains\u001b[0m\u001b[0;34m(\u001b[0m\u001b[0;34m\"Recorded\"\u001b[0m\u001b[0;34m)\u001b[0m\u001b[0;34m\u001b[0m\u001b[0;34m\u001b[0m\u001b[0m\n\u001b[1;32m      4\u001b[0m \u001b[0;34m\u001b[0m\u001b[0m\n\u001b[1;32m      5\u001b[0m \u001b[0mdata\u001b[0m\u001b[0;34m.\u001b[0m\u001b[0mdrop\u001b[0m\u001b[0;34m(\u001b[0m\u001b[0mcolumns\u001b[0m\u001b[0;34m=\u001b[0m\u001b[0;34m'Lecture Modes'\u001b[0m\u001b[0;34m,\u001b[0m \u001b[0minplace\u001b[0m\u001b[0;34m=\u001b[0m\u001b[0;32mTrue\u001b[0m\u001b[0;34m)\u001b[0m\u001b[0;34m\u001b[0m\u001b[0;34m\u001b[0m\u001b[0m\n",
            "\u001b[0;31mTypeError\u001b[0m: list indices must be integers or slices, not str"
          ]
        }
      ],
      "source": [
        "data['Live Session'] = data['Lecture Modes'].str.contains(\"Live\")\n",
        "data['Doubt sessions'] = data['Lecture Modes'].str.contains(\"Doubt\")\n",
        "data['Recorded Videos'] = data['Lecture Modes'].str.contains(\"Recorded\")\n",
        "\n",
        "data.drop(columns='Lecture Modes', inplace=True)"
      ],
      "id": "f0249ad7"
    },
    {
      "cell_type": "code",
      "execution_count": null,
      "metadata": {
        "id": "2e367968"
      },
      "outputs": [],
      "source": [
        "#Measures of central tendency, Measures of skewness, Measures of dispersion\n",
        "#Proving chebyshev's theorem\n",
        "#Z-score hypothesis\n",
        "#Visualization - one categorical variable- pie chart, bar chart; two categorical variable - contingency table, Numerical variable + categorical variable - box plot, one numerical variable - histogram; two numerical variables: scatter plot\n",
        "# Work life balance of undergrads vs postgrads\n",
        "#Analyse the plots\n",
        "#Graphs between various features\n",
        "#Central limit theorem using grades\n",
        "#Hypothesis testing \n",
        "#difference in means of two proportions\n"
      ],
      "id": "2e367968"
    },
    {
      "cell_type": "markdown",
      "metadata": {
        "id": "hA9JbEvSvycT"
      },
      "source": [
        "## Central Limit theorem verification\n",
        "\n",
        "\n"
      ],
      "id": "hA9JbEvSvycT"
    },
    {
      "cell_type": "code",
      "execution_count": null,
      "metadata": {
        "id": "dk-DV4OLUlo6"
      },
      "outputs": [],
      "source": [
        "import random"
      ],
      "id": "dk-DV4OLUlo6"
    },
    {
      "cell_type": "code",
      "execution_count": null,
      "metadata": {
        "id": "bBAAPSZ3v36a"
      },
      "outputs": [],
      "source": [
        "grades = data1['grades']"
      ],
      "id": "bBAAPSZ3v36a"
    },
    {
      "cell_type": "code",
      "execution_count": null,
      "metadata": {
        "id": "Sw6sSCmVxtj6"
      },
      "outputs": [],
      "source": [
        "grades = list(grades)"
      ],
      "id": "Sw6sSCmVxtj6"
    },
    {
      "cell_type": "code",
      "execution_count": null,
      "metadata": {
        "id": "icwQ9cb_VJgM"
      },
      "outputs": [],
      "source": [
        "def clt(grades,n):\n",
        "  sample_mean = []\n",
        "  for i in range(1000):\n",
        "    indexes = random.sample(range(0,len(grades)),n)\n",
        "    sample_list = []\n",
        "    for j in indexes:\n",
        "      sample_list.append(grades[j])\n",
        "    sample_mean.append(sum(sample_list)/len(sample_list))\n",
        "  return sample_mean"
      ],
      "id": "icwQ9cb_VJgM"
    },
    {
      "cell_type": "code",
      "execution_count": null,
      "metadata": {
        "id": "meyTQip5VMCA",
        "colab": {
          "base_uri": "https://localhost:8080/",
          "height": 334
        },
        "outputId": "fef30513-f624-4799-e1d0-2d6a4624d452"
      },
      "outputs": [
        {
          "output_type": "execute_result",
          "data": {
            "text/plain": [
              "(array([  7.,  13.,  49., 141., 226., 233., 198.,  89.,  37.,   7.]),\n",
              " array([7.01 , 7.125, 7.24 , 7.355, 7.47 , 7.585, 7.7  , 7.815, 7.93 ,\n",
              "        8.045, 8.16 ]),\n",
              " <a list of 10 Patch objects>)"
            ]
          },
          "metadata": {},
          "execution_count": 19
        },
        {
          "output_type": "display_data",
          "data": {
            "text/plain": [
              "<Figure size 432x288 with 1 Axes>"
            ],
            "image/png": "[encoded data removed]"
          },
          "metadata": {
            "needs_background": "light"
          }
        }
      ],
      "source": [
        "#N=30\n",
        "sample_mean = clt(grades,10)\n",
        "plt.hist(sample_mean,bins=10)"
      ],
      "id": "meyTQip5VMCA"
    },
    {
      "cell_type": "code",
      "execution_count": null,
      "metadata": {
        "id": "JDIVipex1Man",
        "colab": {
          "base_uri": "https://localhost:8080/",
          "height": 352
        },
        "outputId": "0476b91d-bc1b-4ada-ea58-5a10cd197b1e"
      },
      "outputs": [
        {
          "output_type": "execute_result",
          "data": {
            "text/plain": [
              "(array([  4.,  10.,  16.,  47.,  71.,  97., 151., 141., 157., 103.,  92.,\n",
              "         57.,  31.,  16.,   7.]),\n",
              " array([7.25 , 7.298, 7.346, 7.394, 7.442, 7.49 , 7.538, 7.586, 7.634,\n",
              "        7.682, 7.73 , 7.778, 7.826, 7.874, 7.922, 7.97 ]),\n",
              " <a list of 15 Patch objects>)"
            ]
          },
          "metadata": {},
          "execution_count": 20
        },
        {
          "output_type": "display_data",
          "data": {
            "text/plain": [
              "<Figure size 432x288 with 1 Axes>"
            ],
            "image/png": "[encoded data removed]"
          },
          "metadata": {
            "needs_background": "light"
          }
        }
      ],
      "source": [
        "#N>30\n",
        "sample_mean = clt(grades,20)\n",
        "plt.hist(sample_mean,bins = 15)"
      ],
      "id": "JDIVipex1Man"
    },
    {
      "cell_type": "code",
      "execution_count": null,
      "metadata": {
        "id": "pOiVNN1TWjhn",
        "colab": {
          "base_uri": "https://localhost:8080/",
          "height": 404
        },
        "outputId": "e703de39-1f4c-4067-a2bd-0b34f25414cb"
      },
      "outputs": [
        {
          "output_type": "execute_result",
          "data": {
            "text/plain": [
              "(array([  2.,   7.,   8.,  11.,  24.,  64.,  72., 108., 115., 112., 141.,\n",
              "        117.,  94.,  54.,  33.,  20.,  12.,   3.,   1.,   2.]),\n",
              " array([7.30666667, 7.339     , 7.37133333, 7.40366667, 7.436     ,\n",
              "        7.46833333, 7.50066667, 7.533     , 7.56533333, 7.59766667,\n",
              "        7.63      , 7.66233333, 7.69466667, 7.727     , 7.75933333,\n",
              "        7.79166667, 7.824     , 7.85633333, 7.88866667, 7.921     ,\n",
              "        7.95333333]),\n",
              " <a list of 20 Patch objects>)"
            ]
          },
          "metadata": {},
          "execution_count": 21
        },
        {
          "output_type": "display_data",
          "data": {
            "text/plain": [
              "<Figure size 432x288 with 1 Axes>"
            ],
            "image/png": "[encoded data removed]"
          },
          "metadata": {
            "needs_background": "light"
          }
        }
      ],
      "source": [
        "#N>>>30\n",
        "sample_mean = clt(grades,30)\n",
        "plt.hist(sample_mean,bins =20)"
      ],
      "id": "pOiVNN1TWjhn"
    },
    {
      "cell_type": "markdown",
      "metadata": {
        "id": "Hr6DXKlWC6V3"
      },
      "source": [
        "##Sampling distribution of sample mean when variance is known"
      ],
      "id": "Hr6DXKlWC6V3"
    },
    {
      "cell_type": "code",
      "execution_count": null,
      "metadata": {
        "id": "NtjiMcOKf-0l"
      },
      "outputs": [],
      "source": [
        "def sample_mean_variance(grades,n):\n",
        "  sample_mean = []\n",
        "  sample_variance = []\n",
        "  for i in range(n):\n",
        "    indexes = random.sample(range(0,len(grades)),100)\n",
        "    sample_list = []\n",
        "    for j in indexes:\n",
        "      sample_list.append(grades[j])\n",
        "    mean = sum(sample_list)/len(sample_list)\n",
        "    sample_mean.append(mean)\n",
        "    variance = 0\n",
        "    for i in sample_list:\n",
        "      variance += (i-mean)**2\n",
        "    variance /= (100-1)\n",
        "    sample_variance.append(variance)\n",
        "    \n",
        "  return sample_mean,sample_variance\n",
        "\n",
        "sample_mean,sample_variance = sample_mean_variance(list(data1['grades']),400)"
      ],
      "id": "NtjiMcOKf-0l"
    },
    {
      "cell_type": "code",
      "execution_count": null,
      "metadata": {
        "id": "0j8McwEOuFY3"
      },
      "outputs": [],
      "source": [
        "population_mean = data1['grades'].mean()\n",
        "population_mean"
      ],
      "id": "0j8McwEOuFY3"
    },
    {
      "cell_type": "code",
      "execution_count": null,
      "metadata": {
        "id": "vpdgewZKuNzh"
      },
      "outputs": [],
      "source": [
        "t_values = []\n",
        "for i in range(len(sample_mean)):\n",
        "  value = (sample_mean[i] - population_mean)*(len(sample_mean))**1/2\n",
        "  value /= sample_variance[i]\n",
        "  t_values.append(value)\n"
      ],
      "id": "vpdgewZKuNzh"
    },
    {
      "cell_type": "code",
      "execution_count": null,
      "metadata": {
        "id": "DmlChTcGvKyd"
      },
      "outputs": [],
      "source": [
        "plt.hist(t_values,bins=20)"
      ],
      "id": "DmlChTcGvKyd"
    },
    {
      "cell_type": "markdown",
      "metadata": {
        "id": "7qnozgK0CzOQ"
      },
      "source": [
        "## MOM and MLE of parameters of grades distribution"
      ],
      "id": "7qnozgK0CzOQ"
    },
    {
      "cell_type": "code",
      "execution_count": null,
      "metadata": {
        "id": "-OxcCCxWdgYo"
      },
      "outputs": [],
      "source": [
        "def MLE(sample):\n",
        "  log_likelihood = lambda rate: sum([np.log(norm.pdf(v, scale=rate)) for v in sample])\n",
        "  rates = np.arange(1, 8, 0.01)\n",
        "  estimates = [log_likelihood(r) for r in rates]\n",
        "\n",
        "  plt.xlabel('parameter')\n",
        "  plt.plot(rates, estimates)\n",
        "  return rates[estimates.index(max(estimates))]"
      ],
      "id": "-OxcCCxWdgYo"
    },
    {
      "cell_type": "code",
      "execution_count": null,
      "metadata": {
        "id": "H4pAJ0N5-bX7"
      },
      "outputs": [],
      "source": [
        "mean_mle = MLE(grades)\n",
        "print('Maximum Likelihood Estimate of Mean: ', mean_mle)\n",
        "variance_mle = (np.sum((grades - mean_mle)**2))/len(grades)\n",
        "print('Maximum Likelihood Estimate of Variance : ', variance_mle)"
      ],
      "id": "H4pAJ0N5-bX7"
    },
    {
      "cell_type": "code",
      "execution_count": null,
      "metadata": {
        "id": "__9lmVwWCX6-"
      },
      "outputs": [],
      "source": [
        "sample_mean = np.mean(grades)\n",
        "mean_mme = sample_mean\n",
        "\n",
        "#Comparing the Second moments\n",
        "\n",
        "variance_mme = np.sum(np.square(grades))/len(grades) - mean_mme**2\n",
        "\n",
        "print('Method of Moments Estimate of Mean: ', mean_mme)\n",
        "print('Method of Moments Estimate of Variance: ', variance_mme)"
      ],
      "id": "__9lmVwWCX6-"
    },
    {
      "cell_type": "markdown",
      "metadata": {
        "id": "LqVHSjKPihO_"
      },
      "source": [
        "## Hypothesis testing"
      ],
      "id": "LqVHSjKPihO_"
    },
    {
      "cell_type": "code",
      "execution_count": null,
      "metadata": {
        "id": "_WW9SKNUdmwd"
      },
      "outputs": [],
      "source": [
        "def categoricalDependencyTest(row, *columns):\n",
        "    #temp_data = pd.crosstab(index=row, columns=list(columns), dropna=False)\n",
        "    temp_data = pd.crosstab(index=row, columns=list(columns))\n",
        "    print(tabulate(temp_data, headers='keys', tablefmt='plain'))\n",
        "    #print(temp_data.to_numpy())\n",
        "    output = chi2_contingency(temp_data.to_numpy())\n",
        "    #print(output)\n",
        "    print(output[0])\n",
        "    alpha = 0.05\n",
        "    if output[1] <= alpha:\n",
        "        print(\"Dependent (Null Hypothesis is rejected).\")\n",
        "    else:\n",
        "        print(\"Independent (Null Hypothesis holds True).\")"
      ],
      "id": "_WW9SKNUdmwd"
    },
    {
      "cell_type": "code",
      "execution_count": null,
      "metadata": {
        "id": "hHenBqj6iBWk"
      },
      "outputs": [],
      "source": [
        "#categoricalDependencyTest(data1['Online examination experience'], data1['Online learning content quality'], data1['Motivation'])\n",
        "categoricalDependencyTest(data1['Area'], data1['Internet connectivity issues'])"
      ],
      "id": "hHenBqj6iBWk"
    },
    {
      "cell_type": "code",
      "execution_count": null,
      "metadata": {
        "id": "REyo8R0A2AVa"
      },
      "outputs": [],
      "source": [
        "categoricalDependencyTest(data1['Online examination experience'], data1['Motivation'])"
      ],
      "id": "REyo8R0A2AVa"
    },
    {
      "cell_type": "code",
      "execution_count": null,
      "metadata": {
        "id": "8FezomY9iB98"
      },
      "outputs": [],
      "source": [
        "#categoricalDependencyTest(data1['Level of interaction with your batchmates?'], data1['Stress levels'])\n",
        "#categoricalDependencyTest(data1['Degree'], data1['Work-life balance'])\n",
        "categoricalDependencyTest(data1['Study environment'], data1['Stress levels'])"
      ],
      "id": "8FezomY9iB98"
    },
    {
      "cell_type": "code",
      "execution_count": null,
      "metadata": {
        "id": "noi4uHmEiDhj"
      },
      "outputs": [],
      "source": [
        "#categoricalDependencyTest(data1['Degree'], data1['Motivation'])\n",
        "categoricalDependencyTest(data1['Online examination experience'], data1['Online learning content quality'])"
      ],
      "id": "noi4uHmEiDhj"
    },
    {
      "cell_type": "code",
      "execution_count": null,
      "metadata": {
        "id": "Ew_n2_gdiEzT"
      },
      "outputs": [],
      "source": [
        "categoricalDependencyTest(data1['Online examination experience'], data1['Study hours'])"
      ],
      "id": "Ew_n2_gdiEzT"
    },
    {
      "cell_type": "code",
      "execution_count": null,
      "metadata": {
        "id": "y8cwcyw5iGRy"
      },
      "outputs": [],
      "source": [
        "categoricalDependencyTest(data1['Motivation'], data1['Level of interaction with your batchmates?'])"
      ],
      "id": "y8cwcyw5iGRy"
    },
    {
      "cell_type": "code",
      "execution_count": null,
      "metadata": {
        "id": "LYLPd_TaiIEJ"
      },
      "outputs": [],
      "source": [
        "#categoricalDependencyTest(data1['Online examination experience'], data1['Personalized Interaction with instructors'])\n",
        "categoricalDependencyTest(data1['Motivation'], data1['Online learning content quality'], data1['Personalized Interaction with instructors'])"
      ],
      "id": "LYLPd_TaiIEJ"
    },
    {
      "cell_type": "code",
      "execution_count": null,
      "metadata": {
        "id": "JYRglfqYiJVe"
      },
      "outputs": [],
      "source": [
        "categoricalDependencyTest(data1['Stress levels'], data1['Online learning content quality'], data1['Personalized Interaction with instructors'])"
      ],
      "id": "JYRglfqYiJVe"
    },
    {
      "cell_type": "markdown",
      "metadata": {
        "id": "TNuGPqrJ3qtJ"
      },
      "source": [
        "## Confidence Interval for Population Mean (with 95% of confidence level)"
      ],
      "id": "TNuGPqrJ3qtJ"
    },
    {
      "cell_type": "code",
      "execution_count": null,
      "metadata": {
        "id": "McWPncN7i4q1"
      },
      "outputs": [],
      "source": [
        "sample_mean = data1['grades'].mean()\n",
        "sample_var = data1['grades'].var()\n",
        "n = len(data1['grades'])\n",
        "alpha = 0.05"
      ],
      "id": "McWPncN7i4q1"
    },
    {
      "cell_type": "code",
      "execution_count": null,
      "metadata": {
        "id": "n_dc5cX4zHLE"
      },
      "outputs": [],
      "source": [
        "t_value = 1.971"
      ],
      "id": "n_dc5cX4zHLE"
    },
    {
      "cell_type": "code",
      "execution_count": null,
      "metadata": {
        "id": "wciTCifLzJS-"
      },
      "outputs": [],
      "source": [
        "error_margin = (t_value * sample_var) / np.sqrt(n)"
      ],
      "id": "wciTCifLzJS-"
    },
    {
      "cell_type": "code",
      "execution_count": null,
      "metadata": {
        "id": "aBcxR5h43Yl1",
        "colab": {
          "base_uri": "https://localhost:8080/"
        },
        "outputId": "b355332d-5b3b-4ea0-ce29-a41d48117176"
      },
      "outputs": [
        {
          "output_type": "execute_result",
          "data": {
            "text/plain": [
              "0.04442111036103311"
            ]
          },
          "metadata": {},
          "execution_count": 7
        }
      ],
      "source": [
        "error_margin"
      ],
      "id": "aBcxR5h43Yl1"
    },
    {
      "cell_type": "code",
      "execution_count": null,
      "metadata": {
        "id": "QxeYTI_-3fLv"
      },
      "outputs": [],
      "source": [
        "lower_bound = sample_mean - error_margin\n",
        "upper_bound = sample_mean + error_margin"
      ],
      "id": "QxeYTI_-3fLv"
    },
    {
      "cell_type": "code",
      "execution_count": null,
      "metadata": {
        "id": "x1cdb4aV4Gtd",
        "colab": {
          "base_uri": "https://localhost:8080/"
        },
        "outputId": "6606a384-2108-4e92-f706-5e40bb55fe73"
      },
      "outputs": [
        {
          "output_type": "execute_result",
          "data": {
            "text/plain": [
              "7.575721399909758"
            ]
          },
          "metadata": {},
          "execution_count": 27
        }
      ],
      "source": [
        "lower_bound"
      ],
      "id": "x1cdb4aV4Gtd"
    },
    {
      "cell_type": "code",
      "execution_count": null,
      "metadata": {
        "id": "XnnMjV3Q4IVO",
        "colab": {
          "base_uri": "https://localhost:8080/"
        },
        "outputId": "c8ef2e7a-30d2-453b-bff5-4a1871fa46ce"
      },
      "outputs": [
        {
          "output_type": "execute_result",
          "data": {
            "text/plain": [
              "7.665350028661669"
            ]
          },
          "metadata": {},
          "execution_count": 28
        }
      ],
      "source": [
        "upper_bound"
      ],
      "id": "XnnMjV3Q4IVO"
    },
    {
      "cell_type": "markdown",
      "metadata": {
        "id": "efKPvkrdK41O"
      },
      "source": [
        "Tests of the Equality of Two Means"
      ],
      "id": "efKPvkrdK41O"
    },
    {
      "cell_type": "code",
      "execution_count": null,
      "metadata": {
        "id": "VNPIqHrRK_VM",
        "colab": {
          "base_uri": "https://localhost:8080/"
        },
        "outputId": "d9c6748c-6987-427e-e8c6-ed6276833516"
      },
      "outputs": [
        {
          "output_type": "stream",
          "name": "stdout",
          "text": [
            "0.19490586932447393 0.5751396648044705\n"
          ]
        }
      ],
      "source": [
        "s1 = data1[['Stress levels', 'grades']][data1['Stress levels'] < 3]\n",
        "s2 = data1[['Stress levels', 'grades']][data1['Stress levels'] >= 3]\n",
        "\n",
        "var1 = s1['Stress levels'].var()\n",
        "var2 = s2['Stress levels'].var()\n",
        "\n",
        "print(var1, var2)"
      ],
      "id": "VNPIqHrRK_VM"
    },
    {
      "cell_type": "code",
      "source": [
        "s1 = data1[data1[\"Internet connectivity issues\"]==\"Very often\"]"
      ],
      "metadata": {
        "id": "agoQV5_B5dCA"
      },
      "id": "agoQV5_B5dCA",
      "execution_count": null,
      "outputs": []
    },
    {
      "cell_type": "code",
      "source": [
        "s1 = s1[\"grades\"]"
      ],
      "metadata": {
        "id": "3FtVKfR_6y4z"
      },
      "id": "3FtVKfR_6y4z",
      "execution_count": null,
      "outputs": []
    },
    {
      "cell_type": "code",
      "source": [
        "s2 = data1[data1[\"Internet connectivity issues\"]!=\"Very often\"]"
      ],
      "metadata": {
        "id": "N158Aas452Fj"
      },
      "id": "N158Aas452Fj",
      "execution_count": null,
      "outputs": []
    },
    {
      "cell_type": "code",
      "source": [
        "s2 = s2[\"grades\"]"
      ],
      "metadata": {
        "id": "WY5fgeOT6xr3"
      },
      "id": "WY5fgeOT6xr3",
      "execution_count": null,
      "outputs": []
    },
    {
      "cell_type": "code",
      "source": [
        "mean1 = np.mean(s1)"
      ],
      "metadata": {
        "id": "tU3fgGQa6N0o"
      },
      "id": "tU3fgGQa6N0o",
      "execution_count": null,
      "outputs": []
    },
    {
      "cell_type": "code",
      "source": [
        "mean2 = np.mean(s2)"
      ],
      "metadata": {
        "id": "ziOGc6Ji7QPM"
      },
      "id": "ziOGc6Ji7QPM",
      "execution_count": null,
      "outputs": []
    },
    {
      "cell_type": "code",
      "source": [
        "d = mean2 - mean1"
      ],
      "metadata": {
        "id": "SMOzBEuk7Up3"
      },
      "id": "SMOzBEuk7Up3",
      "execution_count": null,
      "outputs": []
    },
    {
      "cell_type": "code",
      "source": [
        "d"
      ],
      "metadata": {
        "colab": {
          "base_uri": "https://localhost:8080/"
        },
        "id": "BkZeoH_t7bPY",
        "outputId": "38ffee9c-557a-42d4-e028-c584d2f07533"
      },
      "id": "BkZeoH_t7bPY",
      "execution_count": null,
      "outputs": [
        {
          "output_type": "execute_result",
          "data": {
            "text/plain": [
              "0.03477951635846388"
            ]
          },
          "metadata": {},
          "execution_count": 15
        }
      ]
    },
    {
      "cell_type": "code",
      "source": [
        "s_var1 = s1.var()\n",
        "s_var2 = s2.var()\n",
        "s_var1/s_var2"
      ],
      "metadata": {
        "colab": {
          "base_uri": "https://localhost:8080/"
        },
        "id": "NurqxBonx8AH",
        "outputId": "706a3efc-5797-4c5d-c92c-a566c1ee61f7"
      },
      "id": "NurqxBonx8AH",
      "execution_count": null,
      "outputs": [
        {
          "output_type": "execute_result",
          "data": {
            "text/plain": [
              "1.2212657886669906"
            ]
          },
          "metadata": {},
          "execution_count": 16
        }
      ]
    },
    {
      "cell_type": "code",
      "source": [
        "sp = ((len(s1) - 1) * s_var1 ** 2 + (len(s2) - 1) * s_var2 ** 2) / ( len(s1) + len(s2) - 2)"
      ],
      "metadata": {
        "id": "bTTkBSSA751E"
      },
      "id": "bTTkBSSA751E",
      "execution_count": null,
      "outputs": []
    },
    {
      "cell_type": "code",
      "source": [
        "r = len(s1) + len(s2) - 2"
      ],
      "metadata": {
        "id": "4EXVWRPH80M6"
      },
      "id": "4EXVWRPH80M6",
      "execution_count": null,
      "outputs": []
    },
    {
      "cell_type": "code",
      "source": [
        "r"
      ],
      "metadata": {
        "colab": {
          "base_uri": "https://localhost:8080/"
        },
        "id": "CXMdYCae9O_z",
        "outputId": "9a9faf50-0bde-4b81-bd2e-d7b2c3107577"
      },
      "id": "CXMdYCae9O_z",
      "execution_count": null,
      "outputs": [
        {
          "output_type": "execute_result",
          "data": {
            "text/plain": [
              "221"
            ]
          },
          "metadata": {},
          "execution_count": 19
        }
      ]
    },
    {
      "cell_type": "code",
      "source": [
        "d/(sp * np.sqrt((1/len(s1)) + (1/(len(s2)))))"
      ],
      "metadata": {
        "colab": {
          "base_uri": "https://localhost:8080/"
        },
        "id": "bMBjh7gP0EHQ",
        "outputId": "9b7bea86-ab91-4267-f808-da51df9c8c4b"
      },
      "id": "bMBjh7gP0EHQ",
      "execution_count": null,
      "outputs": [
        {
          "output_type": "execute_result",
          "data": {
            "text/plain": [
              "1.699468914533256"
            ]
          },
          "metadata": {},
          "execution_count": 20
        }
      ]
    },
    {
      "cell_type": "code",
      "source": [
        "1.65177768"
      ],
      "metadata": {
        "colab": {
          "base_uri": "https://localhost:8080/"
        },
        "id": "wYDDGqT59P08",
        "outputId": "18e09fa9-c4ae-4977-92fa-11735b170069"
      },
      "id": "wYDDGqT59P08",
      "execution_count": null,
      "outputs": [
        {
          "output_type": "execute_result",
          "data": {
            "text/plain": [
              "1.65177768"
            ]
          },
          "metadata": {},
          "execution_count": 21
        }
      ]
    },
    {
      "cell_type": "markdown",
      "source": [
        "1.65 < 1.699 we will reject null hypothesis (= diff of mean<0)\n",
        "\n",
        "Grades of people facing less connectivity issue - Grades of people facing more connectivity issue < 0 is not rejected\n",
        "\n",
        "Grades of people facing less connectivity issue is more than Grades of people facing more connectivity issue"
      ],
      "metadata": {
        "id": "tdNtlGD9-U8g"
      },
      "id": "tdNtlGD9-U8g"
    },
    {
      "cell_type": "code",
      "source": [
        "s1 = data1[data1[\"Study environment\"]==\"Noisy\"]\n",
        "s1 = s1[\"grades\"]"
      ],
      "metadata": {
        "id": "ZQDkC6l5-WvK"
      },
      "id": "ZQDkC6l5-WvK",
      "execution_count": null,
      "outputs": []
    },
    {
      "cell_type": "code",
      "source": [
        "s2 = data1[data1[\"Study environment\"]==\"Quiet\"]\n",
        "s2 = s2[\"grades\"]"
      ],
      "metadata": {
        "id": "geCSoHCS-ptL"
      },
      "id": "geCSoHCS-ptL",
      "execution_count": null,
      "outputs": []
    },
    {
      "cell_type": "code",
      "source": [
        "mean1 = np.mean(s1)\n",
        "mean2 = np.mean(s2)"
      ],
      "metadata": {
        "id": "OgSEzL-g-wRq"
      },
      "id": "OgSEzL-g-wRq",
      "execution_count": null,
      "outputs": []
    },
    {
      "cell_type": "code",
      "source": [
        "s_var1 = np.var(s1)\n",
        "s_var2 = np.var(s2)\n",
        "s_var1/s_var2"
      ],
      "metadata": {
        "id": "5M8U3M3r-212",
        "colab": {
          "base_uri": "https://localhost:8080/"
        },
        "outputId": "0e49a5d9-90ec-4b89-b416-a2622e4e8cf1"
      },
      "id": "5M8U3M3r-212",
      "execution_count": null,
      "outputs": [
        {
          "output_type": "execute_result",
          "data": {
            "text/plain": [
              "1.2983586906479299"
            ]
          },
          "metadata": {},
          "execution_count": 25
        }
      ]
    },
    {
      "cell_type": "code",
      "source": [
        "d = mean2 - mean1"
      ],
      "metadata": {
        "id": "uwCDKOdz_Gya"
      },
      "id": "uwCDKOdz_Gya",
      "execution_count": null,
      "outputs": []
    },
    {
      "cell_type": "code",
      "source": [
        "sp = ((len(s1) - 1) * s_var1 ** 2 + (len(s2) - 1) * s_var2 ** 2) / ( len(s1) + len(s2) - 2)"
      ],
      "metadata": {
        "id": "LUuYd8u--8bG"
      },
      "id": "LUuYd8u--8bG",
      "execution_count": null,
      "outputs": []
    },
    {
      "cell_type": "code",
      "source": [
        "d/(sp * np.sqrt((1/len(s1)) + (1/(len(s2)))))"
      ],
      "metadata": {
        "colab": {
          "base_uri": "https://localhost:8080/"
        },
        "id": "GTVvhEgp_EgG",
        "outputId": "44d3197c-ddb1-4ab2-920c-49ef5afb71ae"
      },
      "id": "GTVvhEgp_EgG",
      "execution_count": null,
      "outputs": [
        {
          "output_type": "execute_result",
          "data": {
            "text/plain": [
              "5.0020998051148515"
            ]
          },
          "metadata": {},
          "execution_count": 28
        }
      ]
    },
    {
      "cell_type": "markdown",
      "source": [
        "1.65177768 < 5.0020998051148515\n",
        "\n",
        "We rejected Null hypothesis\n",
        "\n",
        "Students studying in Quiet Environment are having more grades than those studying in noisy environment."
      ],
      "metadata": {
        "id": "-Zylpujj1wzT"
      },
      "id": "-Zylpujj1wzT"
    },
    {
      "cell_type": "code",
      "source": [
        "s1 = data1[data1[\"Online examination experience\"] == 'Bad']\n",
        "s1 = s1[\"grades\"]"
      ],
      "metadata": {
        "id": "hCCeGuJS_UwF"
      },
      "id": "hCCeGuJS_UwF",
      "execution_count": null,
      "outputs": []
    },
    {
      "cell_type": "code",
      "source": [
        "s2 = data1[data1[\"Online examination experience\"] != 'Bad']\n",
        "s2 = s2[\"grades\"]"
      ],
      "metadata": {
        "id": "h9Ns3Daw_gP6"
      },
      "id": "h9Ns3Daw_gP6",
      "execution_count": null,
      "outputs": []
    },
    {
      "cell_type": "code",
      "source": [
        "mean1 = np.mean(s1)\n",
        "mean2 = np.mean(s2)"
      ],
      "metadata": {
        "id": "C9Hyz-Ed_ne-"
      },
      "id": "C9Hyz-Ed_ne-",
      "execution_count": null,
      "outputs": []
    },
    {
      "cell_type": "code",
      "source": [
        "s_var1 = np.var(s1)\n",
        "s_var2 = np.var(s2)\n",
        "s_var1/s_var2"
      ],
      "metadata": {
        "id": "S4zEzqse_suO",
        "colab": {
          "base_uri": "https://localhost:8080/"
        },
        "outputId": "afed6527-29b3-4bd9-ad1b-108260511aed"
      },
      "id": "S4zEzqse_suO",
      "execution_count": null,
      "outputs": [
        {
          "output_type": "execute_result",
          "data": {
            "text/plain": [
              "0.7434752769168766"
            ]
          },
          "metadata": {},
          "execution_count": 32
        }
      ]
    },
    {
      "cell_type": "code",
      "source": [
        "sp = ((len(s1) - 1) * s_var1 ** 2 + (len(s2) - 1) * s_var2 ** 2) / ( len(s1) + len(s2) - 2)"
      ],
      "metadata": {
        "id": "MZnhvzTi_uXi"
      },
      "id": "MZnhvzTi_uXi",
      "execution_count": null,
      "outputs": []
    },
    {
      "cell_type": "code",
      "source": [
        "d = mean2 - mean1"
      ],
      "metadata": {
        "id": "d9oLqbEQ_vfZ"
      },
      "id": "d9oLqbEQ_vfZ",
      "execution_count": null,
      "outputs": []
    },
    {
      "cell_type": "code",
      "source": [
        "d/(sp * np.sqrt((1/len(s1)) + (1/(len(s2)))))"
      ],
      "metadata": {
        "colab": {
          "base_uri": "https://localhost:8080/"
        },
        "id": "hNoGz9IG_zHh",
        "outputId": "e441deac-7319-46a6-ae93-0ffcf967c107"
      },
      "id": "hNoGz9IG_zHh",
      "execution_count": null,
      "outputs": [
        {
          "output_type": "execute_result",
          "data": {
            "text/plain": [
              "17.96666247245709"
            ]
          },
          "metadata": {},
          "execution_count": 35
        }
      ]
    },
    {
      "cell_type": "markdown",
      "source": [
        "1.65177768 < 17.96666247245709\n",
        "\n",
        "We reject Null Hypothesis\n",
        "\n",
        "Grades of students with Online Examination experience with values ['Good', 'Moderate'] is better than those with ['Bad'] online examination experience."
      ],
      "metadata": {
        "id": "zCL08Oit4RT2"
      },
      "id": "zCL08Oit4RT2"
    },
    {
      "cell_type": "code",
      "source": [
        "s1 = data1[data1[\"Stress levels\"] > 3]\n",
        "s1 = s1[\"grades\"]"
      ],
      "metadata": {
        "id": "MEgZRsoW_2W5"
      },
      "id": "MEgZRsoW_2W5",
      "execution_count": null,
      "outputs": []
    },
    {
      "cell_type": "code",
      "source": [
        "s2 = data1[data1[\"Stress levels\"] <= 3]\n",
        "s2 = s2[\"grades\"]"
      ],
      "metadata": {
        "id": "8iSTzG_W4kbN"
      },
      "id": "8iSTzG_W4kbN",
      "execution_count": null,
      "outputs": []
    },
    {
      "cell_type": "code",
      "source": [
        "mean1 = np.mean(s1)\n",
        "mean2 = np.mean(s2)\n",
        "print(mean1, mean2)"
      ],
      "metadata": {
        "colab": {
          "base_uri": "https://localhost:8080/"
        },
        "id": "FE6PJn544oXt",
        "outputId": "64d6a78b-918c-4d1b-cb03-db7edb6fca10"
      },
      "id": "FE6PJn544oXt",
      "execution_count": null,
      "outputs": [
        {
          "output_type": "stream",
          "name": "stdout",
          "text": [
            "7.68076923076923 7.524731182795701\n"
          ]
        }
      ]
    },
    {
      "cell_type": "code",
      "source": [
        "s_var1 = np.var(s1)\n",
        "s_var2 = np.var(s2)\n",
        "s_var1/s_var2"
      ],
      "metadata": {
        "colab": {
          "base_uri": "https://localhost:8080/"
        },
        "id": "rZNsNYZo4pKi",
        "outputId": "b038f3bf-2101-4edc-876d-8eda3914a27d"
      },
      "id": "rZNsNYZo4pKi",
      "execution_count": null,
      "outputs": [
        {
          "output_type": "execute_result",
          "data": {
            "text/plain": [
              "1.1145204831259854"
            ]
          },
          "metadata": {},
          "execution_count": 39
        }
      ]
    },
    {
      "cell_type": "code",
      "source": [
        "sp = ((len(s1) - 1) * s_var1 ** 2 + (len(s2) - 1) * s_var2 ** 2) / ( len(s1) + len(s2) - 2)"
      ],
      "metadata": {
        "id": "R-3IBjzz4wvo"
      },
      "id": "R-3IBjzz4wvo",
      "execution_count": null,
      "outputs": []
    },
    {
      "cell_type": "code",
      "source": [
        "d = mean2 - mean1"
      ],
      "metadata": {
        "id": "2rpvaUIF4yLn"
      },
      "id": "2rpvaUIF4yLn",
      "execution_count": null,
      "outputs": []
    },
    {
      "cell_type": "code",
      "source": [
        "d/(sp * np.sqrt((1/len(s1)) + (1/(len(s2)))))"
      ],
      "metadata": {
        "colab": {
          "base_uri": "https://localhost:8080/"
        },
        "id": "r_ZEwdYy4zrc",
        "outputId": "fc9a11b8-c684-439d-eb45-645420accb47"
      },
      "id": "r_ZEwdYy4zrc",
      "execution_count": null,
      "outputs": [
        {
          "output_type": "execute_result",
          "data": {
            "text/plain": [
              "-10.57506861813271"
            ]
          },
          "metadata": {},
          "execution_count": 43
        }
      ]
    },
    {
      "cell_type": "markdown",
      "source": [
        "1.65177768 > -10.57506861813271\n",
        "\n",
        "We fail to reject Null Hypothesis\n",
        "\n",
        "Students with stress levels less than or equal to 3 have lower grades than those with higher stress levels"
      ],
      "metadata": {
        "id": "cVNtt8B35AlM"
      },
      "id": "cVNtt8B35AlM"
    },
    {
      "cell_type": "code",
      "source": [
        "s1 = data1[data1[\"Study hours\"] <= 5]\n",
        "s1 = s1[\"grades\"]\n",
        "s2 = data1[data1[\"Study hours\"] > 5]\n",
        "s2 = s2[\"grades\"]"
      ],
      "metadata": {
        "id": "ge77dCl_4_WA"
      },
      "id": "ge77dCl_4_WA",
      "execution_count": null,
      "outputs": []
    },
    {
      "cell_type": "code",
      "source": [
        "mean1 = np.mean(s1)\n",
        "mean2 = np.mean(s2)\n",
        "print(mean1, mean2)\n",
        "s_var1 = np.var(s1)\n",
        "s_var2 = np.var(s2)\n",
        "s_var1/s_var2\n",
        "sp = ((len(s1) - 1) * s_var1 ** 2 + (len(s2) - 1) * s_var2 ** 2) / ( len(s1) + len(s2) - 2)\n",
        "d = mean2 - mean1\n",
        "d/(sp * np.sqrt((1/len(s1)) + (1/(len(s2)))))"
      ],
      "metadata": {
        "colab": {
          "base_uri": "https://localhost:8080/"
        },
        "id": "FSZms8My6CS4",
        "outputId": "8a312cdb-951b-41d6-adf7-1b4d02cee620"
      },
      "id": "FSZms8My6CS4",
      "execution_count": null,
      "outputs": [
        {
          "output_type": "stream",
          "name": "stdout",
          "text": [
            "7.26989247311828 7.863076923076924\n"
          ]
        },
        {
          "output_type": "execute_result",
          "data": {
            "text/plain": [
              "67.443732341624"
            ]
          },
          "metadata": {},
          "execution_count": 50
        }
      ]
    },
    {
      "cell_type": "markdown",
      "source": [
        "1.65177768 < 67.443732341624\n",
        "\n",
        "We reject Null Hypothesis\n",
        "\n",
        "Students who study more than 5 hours have more grades than other students."
      ],
      "metadata": {
        "id": "_WudBNHL6yBz"
      },
      "id": "_WudBNHL6yBz"
    },
    {
      "cell_type": "code",
      "source": [
        "s1 = data1[data1[\"Motivation\"] <= 3]\n",
        "s1 = s1[\"grades\"]\n",
        "s2 = data1[data1[\"Motivation\"] > 3]\n",
        "s2 = s2[\"grades\"]\n",
        "mean1 = np.mean(s1)\n",
        "mean2 = np.mean(s2)\n",
        "print(mean1, mean2)\n",
        "s_var1 = np.var(s1)\n",
        "s_var2 = np.var(s2)\n",
        "s_var1/s_var2\n",
        "sp = ((len(s1) - 1) * s_var1 ** 2 + (len(s2) - 1) * s_var2 ** 2) / ( len(s1) + len(s2) - 2)\n",
        "d = mean2 - mean1\n",
        "d/(sp * np.sqrt((1/len(s1)) + (1/(len(s2)))))"
      ],
      "metadata": {
        "colab": {
          "base_uri": "https://localhost:8080/"
        },
        "id": "UyTatv3x6TMW",
        "outputId": "797494e3-fced-4486-c351-afd807bb9ab4"
      },
      "id": "UyTatv3x6TMW",
      "execution_count": null,
      "outputs": [
        {
          "output_type": "stream",
          "name": "stdout",
          "text": [
            "7.554748603351956 7.863636363636365\n"
          ]
        },
        {
          "output_type": "execute_result",
          "data": {
            "text/plain": [
              "17.5974853794516"
            ]
          },
          "metadata": {},
          "execution_count": 48
        }
      ]
    },
    {
      "cell_type": "markdown",
      "source": [
        "1.65177768 < 17.5974853794516\n",
        "\n",
        "We reject Null Hypothesis\n",
        "\n",
        "Students with motivation level more than 3 have more grades than other students with lesser motivation levels."
      ],
      "metadata": {
        "id": "1AeTCqMzkcWq"
      },
      "id": "1AeTCqMzkcWq"
    },
    {
      "cell_type": "code",
      "source": [
        "options = ['Bad', 'Very Bad']\n",
        "s1 = data1[data1[\"Online learning content quality\"].isin(options)]\n",
        "s1 = s1[\"grades\"]\n",
        "s2 = data1[~data1[\"Online learning content quality\"].isin(options)]\n",
        "s2 = s2[\"grades\"]\n",
        "mean1 = np.mean(s1)\n",
        "mean2 = np.mean(s2)\n",
        "print(mean1, mean2)\n",
        "s_var1 = np.var(s1)\n",
        "s_var2 = np.var(s2)\n",
        "s_var1/s_var2\n",
        "sp = ((len(s1) - 1) * s_var1 ** 2 + (len(s2) - 1) * s_var2 ** 2) / ( len(s1) + len(s2) - 2)\n",
        "d = mean2 - mean1\n",
        "d/(sp * np.sqrt((1/len(s1)) + (1/(len(s2)))))"
      ],
      "metadata": {
        "colab": {
          "base_uri": "https://localhost:8080/"
        },
        "id": "Dxh6T8crkaOY",
        "outputId": "533a05a9-f735-445f-d210-1f53179bccf3"
      },
      "id": "Dxh6T8crkaOY",
      "execution_count": null,
      "outputs": [
        {
          "output_type": "stream",
          "name": "stdout",
          "text": [
            "7.411764705882351 7.676162790697673\n"
          ]
        },
        {
          "output_type": "execute_result",
          "data": {
            "text/plain": [
              "15.853325904030104"
            ]
          },
          "metadata": {},
          "execution_count": 57
        }
      ]
    },
    {
      "cell_type": "markdown",
      "source": [
        "1.65177768 < 15.853325904030104\n",
        "\n",
        "We reject Null Hypothesis.\n",
        "\n",
        "Students who believe Online learning quality as ['Bad', 'Very Bad'] have lesser grades than those who think just opposite."
      ],
      "metadata": {
        "id": "yZodj9eUnoja"
      },
      "id": "yZodj9eUnoja"
    },
    {
      "cell_type": "code",
      "source": [],
      "metadata": {
        "id": "g6ZGmJHvmL7v"
      },
      "id": "g6ZGmJHvmL7v",
      "execution_count": null,
      "outputs": []
    }
  ],
  "metadata": {
    "colab": {
      "provenance": []
    },
    "kernelspec": {
      "display_name": "Python 3",
      "language": "python",
      "name": "python3"
    },
    "language_info": {
      "codemirror_mode": {
        "name": "ipython",
        "version": 3
      },
      "file_extension": ".py",
      "mimetype": "text/x-python",
      "name": "python",
      "nbconvert_exporter": "python",
      "pygments_lexer": "ipython3",
      "version": "3.8.13"
    }
  },
  "nbformat": 4,
  "nbformat_minor": 5
}